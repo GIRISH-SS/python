{
 "cells": [
  {
   "cell_type": "code",
   "execution_count": 5,
   "id": "3d25502a-8aa4-471c-b90e-0d615b39e5fe",
   "metadata": {},
   "outputs": [
    {
     "name": "stdout",
     "output_type": "stream",
     "text": [
      "<class 'dict'>\n",
      "{'daya': 7394906778, 'mohan': 9379568429, 'girish': 6364632113, 'rohit': 8974652137, 'virat': 9568792137}\n",
      "6364632113\n"
     ]
    }
   ],
   "source": [
    "#Dict in python:- built-in data type to store collection of data in keys:values pairs.\n",
    "\n",
    "phone_no = {\n",
    "    'daya':7394906778,\n",
    "    'mohan':9379568429,\n",
    "    'girish':6364632113,\n",
    "    'rohit':8974652137,\n",
    "    'virat':9568792137\n",
    "}\n",
    "print(type(phone_no))\n",
    "print(phone_no)\n",
    "print(phone_no['girish'])\n",
    "\n",
    "#properties of Dict\n",
    "#------------------\n",
    "#dict is a ordered collection of data\n",
    "#dicts are mutuable keys are imutuable values are mutuable\n",
    "#keys should be either number, string, tuple\n",
    "#values shoud be any data type like list, tuple, int, float..etc\n",
    "#duplicates are not allowed"
   ]
  },
  {
   "cell_type": "code",
   "execution_count": 6,
   "id": "c5d337e3-a815-4252-9fd0-a003f1e3470b",
   "metadata": {},
   "outputs": [
    {
     "name": "stdout",
     "output_type": "stream",
     "text": [
      "{'daya': 7394906778, 'mohan': 7348562198, 'girish': 6364632113, 'rohit': 8974652137, 'virat': 9568792137}\n"
     ]
    }
   ],
   "source": [
    "phone_no = {\n",
    "    'daya':7394906778,\n",
    "    'mohan':9379568429,\n",
    "    'girish':6364632113,\n",
    "    'rohit':8974652137,\n",
    "    'virat':9568792137\n",
    "}\n",
    "phone_no['mohan'] = 7348562198  #changeing phone_no of mohan \n",
    "print(phone_no)"
   ]
  },
  {
   "cell_type": "code",
   "execution_count": 7,
   "id": "bce12449-e3bb-4582-be78-384cb98dbd6c",
   "metadata": {},
   "outputs": [
    {
     "name": "stdout",
     "output_type": "stream",
     "text": [
      "{'daya': 7394906778, 'mohan': 9379568429, 'girish': 6364632113, 'rohit': 8974652137, 'virat': 9568792137, 'asif': {7589641234, 8795462315, 9874521637}}\n"
     ]
    }
   ],
   "source": [
    "phone_no = {\n",
    "    'daya':7394906778,\n",
    "    'mohan':9379568429,\n",
    "    'girish':6364632113,\n",
    "    'rohit':8974652137,\n",
    "    'virat':9568792137\n",
    "}\n",
    "phone_no['asif'] = {7589641234, 8795462315, 9874521637}\n",
    "print(phone_no)"
   ]
  },
  {
   "cell_type": "code",
   "execution_count": 10,
   "id": "c8c2de51-97eb-41fb-b534-14b2fdf254b1",
   "metadata": {},
   "outputs": [
    {
     "name": "stdout",
     "output_type": "stream",
     "text": [
      "8546074578\n"
     ]
    }
   ],
   "source": [
    "phone_no = {\n",
    "    'daya':7394906778,\n",
    "    'mohan':9379568429,\n",
    "    'girish':6364632113,\n",
    "    'rohit':8974652137,\n",
    "    'virat':9568792137\n",
    "}\n",
    "phone_no['girish'] = {'giri_home' : 6364632113, 'giri_work' : 8546074578}\n",
    "print(phone_no['girish']['giri_work'])"
   ]
  },
  {
   "cell_type": "code",
   "execution_count": 16,
   "id": "82e7cfce-9bf2-46c4-9d57-2aa52fff66b3",
   "metadata": {},
   "outputs": [
    {
     "data": {
      "text/plain": [
       "7394906778"
      ]
     },
     "execution_count": 16,
     "metadata": {},
     "output_type": "execute_result"
    }
   ],
   "source": [
    "phone_no = {\n",
    "    'daya':7394906778,\n",
    "    'mohan':9379568429,\n",
    "    'girish':6364632113,\n",
    "    'rohit':8974652137,\n",
    "    'virat':9568792137\n",
    "}\n",
    "phone_no.get('daya')\n",
    "#phone_no.get('Daya')"
   ]
  },
  {
   "cell_type": "code",
   "execution_count": 18,
   "id": "bd42c045-d283-4889-a323-275a361b1db1",
   "metadata": {},
   "outputs": [
    {
     "name": "stdout",
     "output_type": "stream",
     "text": [
      "sachin\n"
     ]
    }
   ],
   "source": [
    "data = {\n",
    "    1 : \"rohit\",\n",
    "    2 : \"virat\",\n",
    "    0 : \"sachin\"\n",
    "}\n",
    "print(data[0])"
   ]
  },
  {
   "cell_type": "code",
   "execution_count": 19,
   "id": "f797c7e0-6082-427e-bfc5-f9abd3405281",
   "metadata": {},
   "outputs": [],
   "source": [
    "#Dict Methods\n",
    "#del:- to delete particular item from a dict\n",
    "#pop():- to delete particular item from a dict\n",
    "#popitem():- it will remove the last item from a dict\n",
    "#clear(): - emptyes the dict\n"
   ]
  },
  {
   "cell_type": "code",
   "execution_count": 22,
   "id": "d3960821-486a-4782-9990-83030a60fd1c",
   "metadata": {},
   "outputs": [
    {
     "name": "stdout",
     "output_type": "stream",
     "text": [
      "{'daya': 7394906778, 'girish': 6364632113, 'rohit': 8974652137, 'virat': 9568792137}\n"
     ]
    }
   ],
   "source": [
    "#del:- to delete particular item from a dict\n",
    "\n",
    "phone_no = {\n",
    "    'daya':7394906778,\n",
    "    'mohan':9379568429,\n",
    "    'girish':6364632113,\n",
    "    'rohit':8974652137,\n",
    "    'virat':9568792137\n",
    "}\n",
    "del phone_no['mohan']\n",
    "print(phone_no)"
   ]
  },
  {
   "cell_type": "code",
   "execution_count": 23,
   "id": "17014f7e-4ebf-4551-9d61-7ee6c71fa48e",
   "metadata": {},
   "outputs": [
    {
     "name": "stdout",
     "output_type": "stream",
     "text": [
      "{'daya': 7394906778, 'mohan': 9379568429, 'girish': 6364632113, 'rohit': 8974652137}\n"
     ]
    }
   ],
   "source": [
    "#pop():- to delete particular item from a dict\n",
    "\n",
    "phone_no = {\n",
    "    'daya':7394906778,\n",
    "    'mohan':9379568429,\n",
    "    'girish':6364632113,\n",
    "    'rohit':8974652137,\n",
    "    'virat':9568792137\n",
    "}\n",
    "phone_no.pop('virat')\n",
    "print(phone_no)"
   ]
  },
  {
   "cell_type": "code",
   "execution_count": 25,
   "id": "6d0d970d-96aa-4a7b-860f-3d788e031526",
   "metadata": {},
   "outputs": [
    {
     "name": "stdout",
     "output_type": "stream",
     "text": [
      "{'daya': 7394906778, 'mohan': 9379568429, 'girish': 6364632113, 'rohit': 8974652137}\n"
     ]
    }
   ],
   "source": [
    "#popitem():- it will remove the last item from a dict\n",
    "\n",
    "phone_no = {\n",
    "    'daya':7394906778,\n",
    "    'mohan':9379568429,\n",
    "    'girish':6364632113,\n",
    "    'rohit':8974652137,\n",
    "    'virat':9568792137\n",
    "}\n",
    "phone_no.popitem()\n",
    "print(phone_no)"
   ]
  },
  {
   "cell_type": "code",
   "execution_count": 29,
   "id": "e34f7f7f-b4f8-4de6-83fa-29c227192e56",
   "metadata": {},
   "outputs": [
    {
     "name": "stdout",
     "output_type": "stream",
     "text": [
      "{}\n",
      "<class 'dict'>\n"
     ]
    }
   ],
   "source": [
    "#clear(): - emptyes the dict\n",
    "\n",
    "phone_no = {\n",
    "    'daya':7394906778,\n",
    "    'mohan':9379568429,\n",
    "    'girish':6364632113,\n",
    "    'rohit':8974652137,\n",
    "    'virat':9568792137\n",
    "}\n",
    "phone_no.clear()\n",
    "print(phone_no)\n",
    "print(type(phone_no))"
   ]
  },
  {
   "cell_type": "code",
   "execution_count": 30,
   "id": "442d1771-8874-4243-ac49-54f19a5c6bbe",
   "metadata": {},
   "outputs": [
    {
     "name": "stdout",
     "output_type": "stream",
     "text": [
      "dict_keys(['daya', 'mohan', 'girish', 'rohit', 'virat'])\n"
     ]
    }
   ],
   "source": [
    "phone_no = {\n",
    "    'daya':7394906778,\n",
    "    'mohan':9379568429,\n",
    "    'girish':6364632113,\n",
    "    'rohit':8974652137,\n",
    "    'virat':9568792137\n",
    "}\n",
    "print(phone_no.keys())"
   ]
  },
  {
   "cell_type": "code",
   "execution_count": 31,
   "id": "741501f4-fd84-43e9-991e-73f55fbf0b5d",
   "metadata": {},
   "outputs": [
    {
     "name": "stdout",
     "output_type": "stream",
     "text": [
      "dict_values([7394906778, 9379568429, 6364632113, 8974652137, 9568792137])\n"
     ]
    }
   ],
   "source": [
    "phone_no = {\n",
    "    'daya':7394906778,\n",
    "    'mohan':9379568429,\n",
    "    'girish':6364632113,\n",
    "    'rohit':8974652137,\n",
    "    'virat':9568792137\n",
    "}\n",
    "print(phone_no.values())"
   ]
  },
  {
   "cell_type": "code",
   "execution_count": 32,
   "id": "29a6b586-b2c1-4ee2-b283-ecae37fa8598",
   "metadata": {},
   "outputs": [
    {
     "name": "stdout",
     "output_type": "stream",
     "text": [
      "dict_items([('daya', 7394906778), ('mohan', 9379568429), ('girish', 6364632113), ('rohit', 8974652137), ('virat', 9568792137)])\n"
     ]
    }
   ],
   "source": [
    "phone_no = {\n",
    "    'daya':7394906778,\n",
    "    'mohan':9379568429,\n",
    "    'girish':6364632113,\n",
    "    'rohit':8974652137,\n",
    "    'virat':9568792137\n",
    "}\n",
    "print(phone_no.items())"
   ]
  },
  {
   "cell_type": "code",
   "execution_count": 33,
   "id": "7e8a4229-a83c-4efb-ba13-d4e21ee65cce",
   "metadata": {},
   "outputs": [
    {
     "name": "stdout",
     "output_type": "stream",
     "text": [
      "daya\n",
      "mohan\n",
      "girish\n",
      "rohit\n",
      "virat\n"
     ]
    }
   ],
   "source": [
    "phone_no = {\n",
    "    'daya':7394906778,\n",
    "    'mohan':9379568429,\n",
    "    'girish':6364632113,\n",
    "    'rohit':8974652137,\n",
    "    'virat':9568792137\n",
    "}\n",
    "for i in phone_no:\n",
    "    print(i)"
   ]
  },
  {
   "cell_type": "code",
   "execution_count": 34,
   "id": "7ba01bd0-cb62-433f-88e2-73ed7d780c7a",
   "metadata": {},
   "outputs": [
    {
     "name": "stdout",
     "output_type": "stream",
     "text": [
      "daya\n",
      "7394906778\n",
      "mohan\n",
      "9379568429\n",
      "girish\n",
      "6364632113\n",
      "rohit\n",
      "8974652137\n",
      "virat\n",
      "9568792137\n"
     ]
    }
   ],
   "source": [
    "phone_no = {\n",
    "    'daya':7394906778,\n",
    "    'mohan':9379568429,\n",
    "    'girish':6364632113,\n",
    "    'rohit':8974652137,\n",
    "    'virat':9568792137\n",
    "}\n",
    "for i in phone_no:\n",
    "    print(i)\n",
    "    print(phone_no[i])"
   ]
  },
  {
   "cell_type": "code",
   "execution_count": 35,
   "id": "8bd780e2-837c-4456-bcc8-89786a0af355",
   "metadata": {},
   "outputs": [
    {
     "name": "stdout",
     "output_type": "stream",
     "text": [
      "daya : 7394906778\n",
      "mohan : 9379568429\n",
      "girish : 6364632113\n",
      "rohit : 8974652137\n",
      "virat : 9568792137\n"
     ]
    }
   ],
   "source": [
    "phone_no = {\n",
    "    'daya': 7394906778,\n",
    "    'mohan': 9379568429,\n",
    "    'girish': 6364632113,\n",
    "    'rohit': 8974652137,\n",
    "    'virat': 9568792137\n",
    "}\n",
    "\n",
    "for i in phone_no:\n",
    "    print(i, \":\", phone_no[i])\n"
   ]
  },
  {
   "cell_type": "code",
   "execution_count": 36,
   "id": "90fa0cc8-6921-4556-a20e-5539e9337a2d",
   "metadata": {},
   "outputs": [
    {
     "name": "stdout",
     "output_type": "stream",
     "text": [
      "('daya', 7394906778)\n",
      "('mohan', 9379568429)\n",
      "('girish', 6364632113)\n",
      "('rohit', 8974652137)\n",
      "('virat', 9568792137)\n"
     ]
    }
   ],
   "source": [
    "phone_no = {\n",
    "    'daya': 7394906778,\n",
    "    'mohan': 9379568429,\n",
    "    'girish': 6364632113,\n",
    "    'rohit': 8974652137,\n",
    "    'virat': 9568792137\n",
    "}\n",
    "\n",
    "for i in phone_no.items():\n",
    "    print(i)\n"
   ]
  },
  {
   "cell_type": "code",
   "execution_count": 37,
   "id": "8aaf4525-60d8-4085-ba37-249d14d92c48",
   "metadata": {},
   "outputs": [
    {
     "name": "stdout",
     "output_type": "stream",
     "text": [
      "{'daya': 7394906778, 'mohan': 9379568429, 'girish': 6364632113, 'rohit': 8974652137, 'virat': 9568792137}\n"
     ]
    }
   ],
   "source": [
    "#copy present dict to new one\n",
    "\n",
    "phone_no = {\n",
    "    'daya': 7394906778,\n",
    "    'mohan': 9379568429,\n",
    "    'girish': 6364632113,\n",
    "    'rohit': 8974652137,\n",
    "    'virat': 9568792137\n",
    "}\n",
    "phone_no2 = phone_no.copy()\n",
    "print(phone_no2)"
   ]
  },
  {
   "cell_type": "code",
   "execution_count": null,
   "id": "a50ecc9b-2f68-4b62-8af6-cafaacdf3333",
   "metadata": {},
   "outputs": [],
   "source": [
    "phone_no = {\n",
    "    'daya': 7394906778,\n",
    "    'mohan': 9379568429,\n",
    "    'girish': 6364632113,\n",
    "    'rohit': 8974652137,\n",
    "    'virat': 9568792137\n",
    "}\n",
    "p"
   ]
  }
 ],
 "metadata": {
  "kernelspec": {
   "display_name": "Python 3 (ipykernel)",
   "language": "python",
   "name": "python3"
  },
  "language_info": {
   "codemirror_mode": {
    "name": "ipython",
    "version": 3
   },
   "file_extension": ".py",
   "mimetype": "text/x-python",
   "name": "python",
   "nbconvert_exporter": "python",
   "pygments_lexer": "ipython3",
   "version": "3.13.2"
  }
 },
 "nbformat": 4,
 "nbformat_minor": 5
}
