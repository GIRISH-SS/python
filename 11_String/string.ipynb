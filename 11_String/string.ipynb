{
 "cells": [
  {
   "cell_type": "code",
   "execution_count": 3,
   "id": "070296f9-1022-40e7-a049-4b0bb6218e43",
   "metadata": {},
   "outputs": [
    {
     "name": "stdout",
     "output_type": "stream",
     "text": [
      "<class 'str'>\n",
      "well come\n",
      "<class 'str'>\n",
      "well come\n",
      "<class 'str'>\n",
      "well come\n",
      "<class 'str'>\n",
      "well come\n",
      "<class 'str'>\n",
      "I'm girish\n",
      "<class 'str'>\n",
      "I'm learning \"python\n",
      "<class 'str'>\n",
      "python is\n",
      "           an amaging \n",
      "              programming language\n"
     ]
    },
    {
     "data": {
      "text/plain": [
       "\"s8 = 'I'm girish'\\nprint(type(s8))\\nprint(s8)\""
      ]
     },
     "execution_count": 3,
     "metadata": {},
     "output_type": "execute_result"
    }
   ],
   "source": [
    "#string in python\n",
    "\n",
    "#creation of string in python\n",
    "s1 = 'well come'\n",
    "print(type(s1))\n",
    "print(s1)\n",
    "s2 = \"well come\"\n",
    "print(type(s2))\n",
    "print(s2)\n",
    "s3 = '''well come'''\n",
    "print(type(s3))\n",
    "print(s3)\n",
    "s4 = \"\"\"well come\"\"\"\n",
    "print(type(s4))\n",
    "print(s4)\n",
    "s5 = \"I'm girish\"\n",
    "print(type(s5))\n",
    "print(s5)\n",
    "s6 = \"\"\"I'm learning \"python\"\"\"\n",
    "print(type(s6))\n",
    "print(s6)\n",
    "s7 = '''python is\n",
    "           an amaging \n",
    "              programming language'''\n",
    "print(type(s7))\n",
    "print(s7)\n",
    "'''s8 = 'I'm girish'\n",
    "print(type(s8))\n",
    "print(s8)'''\n",
    "\n",
    "\n"
   ]
  },
  {
   "cell_type": "code",
   "execution_count": 20,
   "id": "69697b73-0882-450c-8bd9-aac3dda17095",
   "metadata": {},
   "outputs": [
    {
     "name": "stdout",
     "output_type": "stream",
     "text": [
      "GIRSH\n",
      "girish\n",
      "Times Of India\n",
      "Times of india\n",
      "['girish', 'suhas', 'akshay']\n",
      "GiRiSh\n",
      "I'm learning python\n"
     ]
    }
   ],
   "source": [
    "#string inbuilt methods\n",
    "\n",
    "s1 = \"girsh\"\n",
    "print(s1.upper())\n",
    "s2 = \"GIRISH\"\n",
    "print(s2.lower())\n",
    "s3 = \"times of india\"\n",
    "print(s3.title())\n",
    "s4 = \"times of india\"\n",
    "print(s4.capitalize())\n",
    "s5 = \"girish suhas akshay\"\n",
    "print(s5.split())\n",
    "s6 = \"gIrIsH\"\n",
    "print(s6.swapcase())\n",
    "print(\"I'm learning {}\".format(\"python\"))"
   ]
  },
  {
   "cell_type": "code",
   "execution_count": 25,
   "id": "b10f2448-ccbd-4627-a24f-53fe2d02c60f",
   "metadata": {},
   "outputs": [
    {
     "name": "stdout",
     "output_type": "stream",
     "text": [
      "java, python, sql are amazing programming languages.\n"
     ]
    }
   ],
   "source": [
    "#sting formating\n",
    "\n",
    "s1 = \"java\"\n",
    "s2 = \"python\"\n",
    "s3 = \"sql\"\n",
    "print(\"{}, {}, {} are amazing programming languages.\".format(s1, s2, s3))"
   ]
  },
  {
   "cell_type": "code",
   "execution_count": 26,
   "id": "85e908f2-dd6e-425b-8a56-8a868c3f71d2",
   "metadata": {},
   "outputs": [
    {
     "name": "stdout",
     "output_type": "stream",
     "text": [
      "python, java, sql are amazing programming languages.\n"
     ]
    }
   ],
   "source": [
    "s1 = \"java\"\n",
    "s2 = \"python\"\n",
    "s3 = \"sql\"\n",
    "print(\"{}, {}, {} are amazing programming languages.\".format(s2, s1, s3))"
   ]
  },
  {
   "cell_type": "code",
   "execution_count": 27,
   "id": "daaaf6f0-5103-4e5d-bce0-29f7206eb9cb",
   "metadata": {},
   "outputs": [
    {
     "name": "stdout",
     "output_type": "stream",
     "text": [
      "python, sql, java are amazing programming languages.\n"
     ]
    }
   ],
   "source": [
    "s1 = \"java\"\n",
    "s2 = \"python\"\n",
    "s3 = \"sql\"\n",
    "print(\"{1}, {2}, {0} are amazing programming languages.\".format(s1, s2, s3))"
   ]
  },
  {
   "cell_type": "code",
   "execution_count": 32,
   "id": "15b88032-e05a-400d-959a-01a859bda74a",
   "metadata": {},
   "outputs": [
    {
     "name": "stdout",
     "output_type": "stream",
     "text": [
      "140734660149408\n",
      "140734660149744\n",
      "140734660149744\n",
      "140734660150032\n",
      "140734660149744\n"
     ]
    }
   ],
   "source": [
    "#comparision of string\n",
    "\n",
    "s1 = \"hello\"\n",
    "print(id(s1[1]))\n",
    "print(id(s1[2]))\n",
    "print(id(s1[3]))\n",
    "s2 = \"world\"\n",
    "print(id(s2[2]))\n",
    "print(id(s2[3]))"
   ]
  },
  {
   "cell_type": "code",
   "execution_count": 38,
   "id": "33a2b51e-d327-4d54-9a0f-36f91fbb585b",
   "metadata": {},
   "outputs": [
    {
     "name": "stdout",
     "output_type": "stream",
     "text": [
      "values are not equal\n",
      "Id's are not equal\n"
     ]
    }
   ],
   "source": [
    "s1 = \"girish\"\n",
    "s2 = \"GIRISH\"\n",
    "if s1 == s2:\n",
    "    print(\"values are equal\")\n",
    "else:\n",
    "    print(\"values are not equal\")\n",
    "if id(s1) == id(s2):\n",
    "    print(\"Id's are equal\")\n",
    "else:\n",
    "    print(\"Id's are not equal\")"
   ]
  },
  {
   "cell_type": "code",
   "execution_count": 40,
   "id": "38b9ed58-8ee9-47ad-b2b4-fd4b1c20794a",
   "metadata": {},
   "outputs": [
    {
     "name": "stdout",
     "output_type": "stream",
     "text": [
      "values are equal\n",
      "Id's are equal\n"
     ]
    }
   ],
   "source": [
    "s1 = \"girish\"\n",
    "s2 = \"girish\"\n",
    "if s1 == s2:\n",
    "    print(\"values are equal\")\n",
    "else:\n",
    "    print(\"values are not equal\")\n",
    "if id(s1) == id(s2):\n",
    "    print(\"Id's are equal\")\n",
    "else:\n",
    "    print(\"Id's are not equal\")"
   ]
  },
  {
   "cell_type": "code",
   "execution_count": 41,
   "id": "b0cbe250-eca5-4091-9f22-9e4d1f32a3a4",
   "metadata": {},
   "outputs": [
    {
     "name": "stdout",
     "output_type": "stream",
     "text": [
      "values are equal\n",
      "Id's are equal\n"
     ]
    }
   ],
   "source": [
    "s1 = \"girish\"\n",
    "s2 = \"girish\"\n",
    "s1.upper()\n",
    "s2.upper()\n",
    "if s1 == s2:\n",
    "    print(\"values are equal\")\n",
    "else:\n",
    "    print(\"values are not equal\")\n",
    "if id(s1) == id(s2):\n",
    "    print(\"Id's are equal\")\n",
    "else:\n",
    "    print(\"Id's are not equal\")"
   ]
  },
  {
   "cell_type": "code",
   "execution_count": null,
   "id": "5c229d3b-7eb6-4572-85f7-985e989769a9",
   "metadata": {},
   "outputs": [],
   "source": []
  }
 ],
 "metadata": {
  "kernelspec": {
   "display_name": "Python 3 (ipykernel)",
   "language": "python",
   "name": "python3"
  },
  "language_info": {
   "codemirror_mode": {
    "name": "ipython",
    "version": 3
   },
   "file_extension": ".py",
   "mimetype": "text/x-python",
   "name": "python",
   "nbconvert_exporter": "python",
   "pygments_lexer": "ipython3",
   "version": "3.13.2"
  }
 },
 "nbformat": 4,
 "nbformat_minor": 5
}
