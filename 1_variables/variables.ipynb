{
 "cells": [
  {
   "cell_type": "code",
   "execution_count": 1,
   "id": "eb6d9331-14e5-4124-842f-2be6a7b3b328",
   "metadata": {},
   "outputs": [
    {
     "name": "stdout",
     "output_type": "stream",
     "text": [
      "5\n",
      "girish\n"
     ]
    }
   ],
   "source": [
    "x = 5\n",
    "y = \"girish\"\n",
    "print(x)\n",
    "print(y)"
   ]
  },
  {
   "cell_type": "code",
   "execution_count": 3,
   "id": "bc7b6c83-6c42-43f5-84ff-1721601dbf04",
   "metadata": {},
   "outputs": [
    {
     "name": "stdout",
     "output_type": "stream",
     "text": [
      "<class 'int'>\n",
      "<class 'str'>\n"
     ]
    }
   ],
   "source": [
    "x = 5\n",
    "y = \"girish\"\n",
    "print(type(x))\n",
    "print(type(y))"
   ]
  },
  {
   "cell_type": "code",
   "execution_count": 4,
   "id": "aaab9ed7-3af7-4289-b790-277b62349f44",
   "metadata": {},
   "outputs": [
    {
     "name": "stdout",
     "output_type": "stream",
     "text": [
      "4\n",
      "rohit\n"
     ]
    }
   ],
   "source": [
    "a = 4\n",
    "A = \"rohit\"\n",
    "print(a)\n",
    "print(A)"
   ]
  },
  {
   "cell_type": "code",
   "execution_count": 5,
   "id": "572c12c2-f795-4aba-90ce-bacaaca5f7de",
   "metadata": {},
   "outputs": [
    {
     "name": "stdout",
     "output_type": "stream",
     "text": [
      "25\n",
      "bmw\n",
      "25000\n"
     ]
    }
   ],
   "source": [
    "age = 25\n",
    "carname =\"bmw\"\n",
    "total_sal = 25000\n",
    "print(age)\n",
    "print(carname)\n",
    "print(total_sal)"
   ]
  },
  {
   "cell_type": "code",
   "execution_count": 6,
   "id": "9d3810f7-8e57-4dcd-8475-aa7c76a1f46e",
   "metadata": {},
   "outputs": [
    {
     "name": "stdout",
     "output_type": "stream",
     "text": [
      "girish\n",
      "girish\n",
      "girish\n",
      "girish\n",
      "girish\n",
      "girish\n"
     ]
    }
   ],
   "source": [
    "myname = \"girish\"\n",
    "print(myname)\n",
    "my_name = \"girish\"\n",
    "print(my_name)\n",
    "_my_name = \"girish\"\n",
    "print(_my_name)\n",
    "myName = \"girish\"\n",
    "print(myName)\n",
    "MYNAME = \"girish\"\n",
    "print(MYNAME)\n",
    "myname2 = \"girish\"\n",
    "print(myname2)"
   ]
  },
  {
   "cell_type": "code",
   "execution_count": 8,
   "id": "396034e9-6ec8-4a1d-9919-f928cab246fa",
   "metadata": {},
   "outputs": [
    {
     "ename": "SyntaxError",
     "evalue": "invalid decimal literal (931157134.py, line 1)",
     "output_type": "error",
     "traceback": [
      "  \u001b[36mCell\u001b[39m\u001b[36m \u001b[39m\u001b[32mIn[8]\u001b[39m\u001b[32m, line 1\u001b[39m\n\u001b[31m    \u001b[39m\u001b[31m2myname = \"girish\"\u001b[39m\n    ^\n\u001b[31mSyntaxError\u001b[39m\u001b[31m:\u001b[39m invalid decimal literal\n"
     ]
    }
   ],
   "source": [
    "2myname = \"girish\"\n",
    "my-name = \"girish\"\n",
    "my name = \"girish\"\n",
    "print(2myname)\n",
    "print(my-name)\n",
    "print(my name)"
   ]
  },
  {
   "cell_type": "code",
   "execution_count": 9,
   "id": "eaafd709-6dc6-4f08-8e46-d6d6b2fdd9f5",
   "metadata": {},
   "outputs": [
    {
     "name": "stdout",
     "output_type": "stream",
     "text": [
      "girish\n",
      "girish\n",
      "girish\n"
     ]
    }
   ],
   "source": [
    "myVariableName = \"girish\"  #camel case\n",
    "MyVariableName = \"girish\"  #pascal case\n",
    "my_variable_name = \"girish\" #snake case\n",
    "print(myVariableName)\n",
    "print(MyVariableName)\n",
    "print(my_variable_name)"
   ]
  },
  {
   "cell_type": "code",
   "execution_count": 10,
   "id": "8de5f2c7-1b3d-45ac-abfe-7fa8156c3ef4",
   "metadata": {},
   "outputs": [
    {
     "name": "stdout",
     "output_type": "stream",
     "text": [
      "orange\n",
      "banana\n",
      "cherry\n"
     ]
    }
   ],
   "source": [
    "x,y,z = \"orange\", \"banana\", \"cherry\"\n",
    "print(x)\n",
    "print(y)\n",
    "print(z)"
   ]
  },
  {
   "cell_type": "code",
   "execution_count": 11,
   "id": "996efd31-8409-40ee-a5b8-19040b28abce",
   "metadata": {},
   "outputs": [
    {
     "name": "stdout",
     "output_type": "stream",
     "text": [
      "orange\n",
      "orange\n",
      "orange\n"
     ]
    }
   ],
   "source": [
    "x = y = z = \"orange\"\n",
    "print(x)\n",
    "print(y)\n",
    "print(z)"
   ]
  },
  {
   "cell_type": "code",
   "execution_count": null,
   "id": "61704cc7-6f25-481d-b25c-eaf48299bf96",
   "metadata": {},
   "outputs": [],
   "source": []
  }
 ],
 "metadata": {
  "kernelspec": {
   "display_name": "Python 3 (ipykernel)",
   "language": "python",
   "name": "python3"
  },
  "language_info": {
   "codemirror_mode": {
    "name": "ipython",
    "version": 3
   },
   "file_extension": ".py",
   "mimetype": "text/x-python",
   "name": "python",
   "nbconvert_exporter": "python",
   "pygments_lexer": "ipython3",
   "version": "3.13.2"
  }
 },
 "nbformat": 4,
 "nbformat_minor": 5
}
