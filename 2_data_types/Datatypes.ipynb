{
 "cells": [
  {
   "cell_type": "code",
   "execution_count": 1,
   "id": "10835df5-98f5-406f-87ce-69c886633e80",
   "metadata": {},
   "outputs": [
    {
     "name": "stdout",
     "output_type": "stream",
     "text": [
      "20\n",
      "<class 'int'>\n",
      "20.2\n",
      "<class 'float'>\n",
      "girish\n",
      "<class 'str'>\n",
      "True\n",
      "<class 'bool'>\n",
      "False\n",
      "<class 'bool'>\n",
      "(20+5j)\n",
      "<class 'complex'>\n",
      "[1, 2, 3, 4, 5, 6]\n",
      "<class 'list'>\n",
      "(1, 2, 3, 4, 5, 6)\n",
      "<class 'tuple'>\n",
      "{1, 2, 3, 4, 5, 6}\n",
      "<class 'set'>\n",
      "{'name': 'girish', 'age': 25}\n",
      "<class 'dict'>\n"
     ]
    }
   ],
   "source": [
    "#data types\n",
    "a = 20              #int\n",
    "print(a)\n",
    "print(type(a))  \n",
    "\n",
    "b = 20.2            #float\n",
    "print(b)\n",
    "print(type(b))\n",
    "\n",
    "c = \"girish\"        #str\n",
    "print(c)\n",
    "print(type(c))\n",
    "\n",
    "d = True            #bool\n",
    "print(d)\n",
    "print(type(d))\n",
    "\n",
    "e = False           #bool\n",
    "print(e)\n",
    "print(type(e))\n",
    "\n",
    "f = 20+5j       #complex\n",
    "print(f)\n",
    "print(type(f))\n",
    "\n",
    "g = [1,2,3,4,5,6] #list\n",
    "print(g)\n",
    "print(type(g))\n",
    "\n",
    "h = (1,2,3,4,5,6) #tuple\n",
    "print(h)\n",
    "print(type(h))\n",
    "\n",
    "i = {1,2,3,4,5,6} #set\n",
    "print(i)\n",
    "print(type(i))\n",
    "\n",
    "j = {\"name\":\"girish\",\"age\":25}   #dict\n",
    "print(j)\n",
    "print(type(j))\n"
   ]
  },
  {
   "cell_type": "code",
   "execution_count": null,
   "id": "b501df4b-260b-486d-9c19-a1fc3abf1d2b",
   "metadata": {},
   "outputs": [],
   "source": []
  }
 ],
 "metadata": {
  "kernelspec": {
   "display_name": "Python 3 (ipykernel)",
   "language": "python",
   "name": "python3"
  },
  "language_info": {
   "codemirror_mode": {
    "name": "ipython",
    "version": 3
   },
   "file_extension": ".py",
   "mimetype": "text/x-python",
   "name": "python",
   "nbconvert_exporter": "python",
   "pygments_lexer": "ipython3",
   "version": "3.13.2"
  }
 },
 "nbformat": 4,
 "nbformat_minor": 5
}
