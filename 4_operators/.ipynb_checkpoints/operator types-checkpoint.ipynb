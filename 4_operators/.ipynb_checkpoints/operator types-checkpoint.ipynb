{
 "cells": [
  {
   "cell_type": "code",
   "execution_count": 1,
   "id": "edf36bce-93b2-49d8-a649-d3da0e2f88f0",
   "metadata": {},
   "outputs": [
    {
     "name": "stdout",
     "output_type": "stream",
     "text": [
      "9\n"
     ]
    }
   ],
   "source": [
    "#1. aritmatic operator(+, -, *, /, %, **)\n",
    "\n",
    "#addition(+)\n",
    "a = 5\n",
    "b = 4\n",
    "print(a+b)"
   ]
  },
  {
   "cell_type": "code",
   "execution_count": 2,
   "id": "f964fa75-49ac-4437-85ba-29a893b6b9ab",
   "metadata": {},
   "outputs": [
    {
     "name": "stdout",
     "output_type": "stream",
     "text": [
      "1\n"
     ]
    }
   ],
   "source": [
    "#substraction(-)\n",
    "a = 5\n",
    "b = 4\n",
    "print(a-b)"
   ]
  },
  {
   "cell_type": "code",
   "execution_count": 3,
   "id": "90f0e9fc-3ccc-476f-9007-791952d13721",
   "metadata": {},
   "outputs": [
    {
     "name": "stdout",
     "output_type": "stream",
     "text": [
      "20\n"
     ]
    }
   ],
   "source": [
    "#multiplication(*)\n",
    "a = 5\n",
    "b = 4\n",
    "print(a*b)"
   ]
  },
  {
   "cell_type": "code",
   "execution_count": 10,
   "id": "14f674bb-f983-4104-bf06-57e8962e8861",
   "metadata": {},
   "outputs": [
    {
     "name": "stdout",
     "output_type": "stream",
     "text": [
      "2.0\n"
     ]
    }
   ],
   "source": [
    "#division(/)     \n",
    "a = 4\n",
    "b = 2\n",
    "print(a/b)   #division always give float value in python \n"
   ]
  },
  {
   "cell_type": "code",
   "execution_count": 6,
   "id": "20c303c3-f9b9-40a0-aeb2-ef5064da5d1a",
   "metadata": {},
   "outputs": [
    {
     "name": "stdout",
     "output_type": "stream",
     "text": [
      "2\n"
     ]
    }
   ],
   "source": [
    "#to not get in float\n",
    "a = 4\n",
    "b = 2\n",
    "print(a//b)"
   ]
  },
  {
   "cell_type": "code",
   "execution_count": 14,
   "id": "2068c511-226c-42ec-aadf-3c7f4cd4965e",
   "metadata": {},
   "outputs": [
    {
     "name": "stdout",
     "output_type": "stream",
     "text": [
      "16\n"
     ]
    }
   ],
   "source": [
    "a = 4\n",
    "b = 2\n",
    "print(a**b)"
   ]
  },
  {
   "cell_type": "code",
   "execution_count": 11,
   "id": "3ac03893-c829-41bc-9587-9ae5310690c7",
   "metadata": {},
   "outputs": [
    {
     "name": "stdout",
     "output_type": "stream",
     "text": [
      "12.0\n"
     ]
    }
   ],
   "source": [
    "#PEMDAS  (parentheses,multiplication,division,addition,substraction)  precidence\n",
    "\n",
    "a = 5+2*3-1+10/5\n",
    "print(a)"
   ]
  },
  {
   "cell_type": "code",
   "execution_count": 12,
   "id": "47807230-3e3c-479b-82af-26fa37254843",
   "metadata": {},
   "outputs": [
    {
     "name": "stdout",
     "output_type": "stream",
     "text": [
      "7\n"
     ]
    }
   ],
   "source": [
    " #2. Assignment operator\n",
    "a = 5\n",
    "a = a+2\n",
    "print(a)"
   ]
  },
  {
   "cell_type": "code",
   "execution_count": 13,
   "id": "8080b2b6-2195-4b11-8bd5-e7175cae3cf0",
   "metadata": {},
   "outputs": [
    {
     "name": "stdout",
     "output_type": "stream",
     "text": [
      "7\n"
     ]
    }
   ],
   "source": [
    "a = 5    #shortend operator (+=, -=, *=, /=, //=, %=, **=)\n",
    "a += 2\n",
    "print(a)"
   ]
  },
  {
   "cell_type": "code",
   "execution_count": 17,
   "id": "3a90e30d-1715-442f-980d-909741115484",
   "metadata": {},
   "outputs": [
    {
     "name": "stdout",
     "output_type": "stream",
     "text": [
      "13\n"
     ]
    }
   ],
   "source": [
    "#3. Comparision / relational operator (<, >, <=, >=, ==, !=)  o/p of the comparision operator is True / False\n",
    "\n",
    "a, b = 4, 3\n",
    "c = a+b  #7\n",
    "a = a+2  #6\n",
    "c = c+a  #13\n",
    "print(c)"
   ]
  },
  {
   "cell_type": "code",
   "execution_count": 18,
   "id": "b594e9f4-12b8-40e8-a90b-1fcafa6298b3",
   "metadata": {},
   "outputs": [
    {
     "name": "stdout",
     "output_type": "stream",
     "text": [
      "True\n",
      "True\n",
      "False\n",
      "False\n",
      "True\n"
     ]
    }
   ],
   "source": [
    "a = 5\n",
    "print(a==5)  #True\n",
    "print(a<=5)  #True\n",
    "print(a<5)   #False\n",
    "print(a!=5)  #False\n",
    "print(a!=6)  #True"
   ]
  },
  {
   "cell_type": "code",
   "execution_count": 19,
   "id": "a8a5c7a6-ea9b-4a07-a968-e1831f3544f4",
   "metadata": {},
   "outputs": [
    {
     "name": "stdout",
     "output_type": "stream",
     "text": [
      "True\n"
     ]
    }
   ],
   "source": [
    "#4. logical operator  (and, or, not)  used to combine two or more conditions\n",
    "#and:- Returns True only if both conditions are True                  \n",
    "a,b = 5, 4\n",
    "print(a>4 and b<10)"
   ]
  },
  {
   "cell_type": "code",
   "execution_count": 20,
   "id": "aa8c218b-4342-406a-93ea-17eca8844175",
   "metadata": {},
   "outputs": [
    {
     "name": "stdout",
     "output_type": "stream",
     "text": [
      "True\n",
      "True\n"
     ]
    }
   ],
   "source": [
    "#or:- Returns True if at least one condition is True\n",
    "a, b = 5, 4\n",
    "print(a>4 or b<10)\n",
    "print(a<4 or b<13)"
   ]
  },
  {
   "cell_type": "code",
   "execution_count": 29,
   "id": "6e8771bb-3f7a-4ebf-b9b4-719522e88ed0",
   "metadata": {},
   "outputs": [
    {
     "name": "stdout",
     "output_type": "stream",
     "text": [
      "False\n"
     ]
    }
   ],
   "source": [
    "#not:- Reverses the value of a condition.\n",
    "a, b = 5, 4\n",
    "print(not(a))"
   ]
  },
  {
   "cell_type": "code",
   "execution_count": 24,
   "id": "57d318b1-9231-4070-a001-588932454b3b",
   "metadata": {},
   "outputs": [
    {
     "name": "stdout",
     "output_type": "stream",
     "text": [
      "True\n"
     ]
    }
   ],
   "source": [
    "a, b = 5, 0\n",
    "print(not())"
   ]
  },
  {
   "cell_type": "code",
   "execution_count": 31,
   "id": "fcbd4e40-9a02-45b8-8a4b-cdbeab92bf78",
   "metadata": {},
   "outputs": [
    {
     "name": "stdout",
     "output_type": "stream",
     "text": [
      "4\n"
     ]
    }
   ],
   "source": [
    "#5. Bitwise operator (&, |, ^, ~, <<, >>) works on binary numbers\n",
    "\n",
    "#&(and)\n",
    "a = 5\n",
    "b = 4\n",
    "print(a & b)"
   ]
  },
  {
   "cell_type": "code",
   "execution_count": 32,
   "id": "51c51b7f-ddc5-4556-9e1f-df4f5958e3f1",
   "metadata": {},
   "outputs": [
    {
     "name": "stdout",
     "output_type": "stream",
     "text": [
      "5\n"
     ]
    }
   ],
   "source": [
    "#or(|)\n",
    "a = 5\n",
    "b = 4\n",
    "print(a | b)"
   ]
  },
  {
   "cell_type": "code",
   "execution_count": 33,
   "id": "922f4c9e-e122-43d0-a442-f9048eaa24a0",
   "metadata": {},
   "outputs": [
    {
     "name": "stdout",
     "output_type": "stream",
     "text": [
      "1\n"
     ]
    }
   ],
   "source": [
    "#^(xor)\n",
    "a = 5\n",
    "b = 4\n",
    "print(a ^ b)"
   ]
  },
  {
   "cell_type": "code",
   "execution_count": 35,
   "id": "273e18a7-1c0d-4a97-8670-a2c9ee2e0c7c",
   "metadata": {},
   "outputs": [
    {
     "name": "stdout",
     "output_type": "stream",
     "text": [
      "-6\n"
     ]
    }
   ],
   "source": [
    "#~(not)   #we cannot store the negative value in memory we have to convert into positive through 2's compliment\n",
    "a = 5\n",
    "b = 4\n",
    "print(~(a))"
   ]
  },
  {
   "cell_type": "code",
   "execution_count": 37,
   "id": "ba24aa79-1195-48d2-9cac-ffe6ca55c458",
   "metadata": {},
   "outputs": [
    {
     "name": "stdout",
     "output_type": "stream",
     "text": [
      "20\n"
     ]
    }
   ],
   "source": [
    "#<<(left shift)  gain of bits will happen\n",
    "\n",
    "a = 5\n",
    "b = 4\n",
    "print(a<<2) "
   ]
  },
  {
   "cell_type": "code",
   "execution_count": 38,
   "id": "923544d0-438f-466b-afd3-0f19db938b05",
   "metadata": {},
   "outputs": [
    {
     "name": "stdout",
     "output_type": "stream",
     "text": [
      "1\n"
     ]
    }
   ],
   "source": [
    "#>>(right shift) discard of bits will happen\n",
    "\n",
    "a = 5\n",
    "b = 4\n",
    "print(a>>2)"
   ]
  },
  {
   "cell_type": "code",
   "execution_count": 39,
   "id": "493d6d16-0148-4e9b-84cc-fe1f7523b6c4",
   "metadata": {},
   "outputs": [
    {
     "name": "stdout",
     "output_type": "stream",
     "text": [
      "18\n"
     ]
    }
   ],
   "source": [
    "a = 26\n",
    "b = 23\n",
    "c = (a & b)\n",
    "print(c)"
   ]
  },
  {
   "cell_type": "code",
   "execution_count": 40,
   "id": "bdacb5ea-2e4a-4982-8621-2d894e7edd46",
   "metadata": {},
   "outputs": [
    {
     "name": "stdout",
     "output_type": "stream",
     "text": [
      "25\n"
     ]
    }
   ],
   "source": [
    "a = 17\n",
    "b = 24\n",
    "print(a | b)"
   ]
  },
  {
   "cell_type": "code",
   "execution_count": 41,
   "id": "411c96fd-591d-4293-8816-b9adc1911b89",
   "metadata": {},
   "outputs": [
    {
     "name": "stdout",
     "output_type": "stream",
     "text": [
      "9\n"
     ]
    }
   ],
   "source": [
    "a = 17\n",
    "b = 24\n",
    "print(a ^ b)"
   ]
  },
  {
   "cell_type": "code",
   "execution_count": 42,
   "id": "44a4d12c-9980-432a-a656-99d93331d009",
   "metadata": {},
   "outputs": [
    {
     "name": "stdout",
     "output_type": "stream",
     "text": [
      "-46\n"
     ]
    }
   ],
   "source": [
    "a = 45\n",
    "print(~a)"
   ]
  },
  {
   "cell_type": "code",
   "execution_count": 43,
   "id": "02eb50b7-d4d8-4103-b4ad-6bd639d0c6d5",
   "metadata": {},
   "outputs": [
    {
     "name": "stdout",
     "output_type": "stream",
     "text": [
      "272\n"
     ]
    }
   ],
   "source": [
    "a = 68\n",
    "print(a<<2)"
   ]
  },
  {
   "cell_type": "code",
   "execution_count": 45,
   "id": "5c64ddc2-6ae9-428e-8001-507a15139f29",
   "metadata": {},
   "outputs": [
    {
     "name": "stdout",
     "output_type": "stream",
     "text": [
      "7\n"
     ]
    }
   ],
   "source": [
    "a = 56\n",
    "print(a>>3)"
   ]
  },
  {
   "cell_type": "code",
   "execution_count": null,
   "id": "bd917b6e-dc71-4359-9294-045cf3127b5f",
   "metadata": {},
   "outputs": [],
   "source": []
  }
 ],
 "metadata": {
  "kernelspec": {
   "display_name": "Python 3 (ipykernel)",
   "language": "python",
   "name": "python3"
  },
  "language_info": {
   "codemirror_mode": {
    "name": "ipython",
    "version": 3
   },
   "file_extension": ".py",
   "mimetype": "text/x-python",
   "name": "python",
   "nbconvert_exporter": "python",
   "pygments_lexer": "ipython3",
   "version": "3.13.2"
  }
 },
 "nbformat": 4,
 "nbformat_minor": 5
}
