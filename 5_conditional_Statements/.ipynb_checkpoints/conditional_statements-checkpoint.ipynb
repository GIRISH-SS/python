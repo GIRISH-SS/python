{
 "cells": [
  {
   "cell_type": "code",
   "execution_count": 10,
   "id": "9f6c8a3c-cd7c-4d51-afb9-96d669418f76",
   "metadata": {},
   "outputs": [],
   "source": [
    "#conditional statements:- let you run certain blocks of code only when specific conditions are met.\n",
    "#1. if\n",
    "#2. if else\n",
    "#3. if elif else\n",
    "\n",
    "#1. Wapp to check wheather the given number is divisible by 5 or not.\n",
    "#2. wapp to check the given number is even or odd.\n",
    "#3. Wapp to check wheather the user entered the number present between 0 to 10 or not.\n",
    "#4. wapp to check wheather the given number is 0, +ve, -ve, by using if else control construct.\n",
    "#5. wapp to print the numbers in word between 0 to 10 if else control construct.\n",
    "#6. wapp to do basic calculator.\n",
    "#7. example using metro\n",
    "#8. roller coaster\n",
    "#9. BMI calculation\n",
    "#10. check the wheather the given year is leap year or not\n",
    "#11. roller coaster updated\n",
    "#12. Pizza Order programm\n",
    "#13. love calculator"
   ]
  },
  {
   "cell_type": "code",
   "execution_count": 14,
   "id": "3b7601ee-6fee-43cc-a8e5-6fcd68728c8e",
   "metadata": {},
   "outputs": [
    {
     "name": "stdin",
     "output_type": "stream",
     "text": [
      "enter a number 14\n"
     ]
    },
    {
     "name": "stdout",
     "output_type": "stream",
     "text": [
      "entered number is not divisible by 5\n"
     ]
    }
   ],
   "source": [
    "#1. Wapp to check wheather the given number is divisible by 5 or not.\n",
    "\n",
    "a = int(input(\"enter a number\"))\n",
    "if a % 5 == 0:\n",
    "    print(\"entered number is divisible by 5\")\n",
    "else:\n",
    "    print(\"entered number is not divisible by 5\")"
   ]
  },
  {
   "cell_type": "code",
   "execution_count": 16,
   "id": "250fcc19-5383-4af3-a12e-729b98206e36",
   "metadata": {},
   "outputs": [
    {
     "name": "stdin",
     "output_type": "stream",
     "text": [
      "enter a number 6\n"
     ]
    },
    {
     "name": "stdout",
     "output_type": "stream",
     "text": [
      "Even number\n"
     ]
    }
   ],
   "source": [
    "#2. wapp to check the given number is even or odd.\n",
    "a = int(input(\"enter a number\"))\n",
    "if a % 2 == 0:\n",
    "    print(\"Even number\")\n",
    "else:\n",
    "    print(\"Odd number\")"
   ]
  },
  {
   "cell_type": "code",
   "execution_count": 19,
   "id": "2a6f9f7b-2e39-4785-bd2d-b47d178c4368",
   "metadata": {},
   "outputs": [
    {
     "name": "stdin",
     "output_type": "stream",
     "text": [
      "enter a number 6\n"
     ]
    },
    {
     "name": "stdout",
     "output_type": "stream",
     "text": [
      "entered value is present between 0 to 10\n"
     ]
    }
   ],
   "source": [
    "#3. Wapp to check wheather the user entered the number present between 0 to 10 or not.\n",
    "a = int(input(\"enter a number\"))\n",
    "if a>=0 and a<=10:\n",
    "    print(\"entered value is present between 0 to 10\")\n",
    "else:\n",
    "    print(\"entered value is not present between 0 to 10\")"
   ]
  },
  {
   "cell_type": "code",
   "execution_count": 22,
   "id": "56cef9b0-e02e-4fc5-9651-09688807fae6",
   "metadata": {},
   "outputs": [
    {
     "name": "stdin",
     "output_type": "stream",
     "text": [
      "enter a number 0\n"
     ]
    },
    {
     "name": "stdout",
     "output_type": "stream",
     "text": [
      "number is Zero\n"
     ]
    }
   ],
   "source": [
    "#4. wapp to check wheather the given number is 0, +ve, -ve, by using if else control construct.\n",
    "a = int(input(\"enter a number\"))\n",
    "if a == 0:\n",
    "    print(\"number is Zero\")\n",
    "elif a>0:\n",
    "    print(\"positive number\")\n",
    "else:\n",
    "    print(\"negative number\")"
   ]
  },
  {
   "cell_type": "code",
   "execution_count": 24,
   "id": "1fd6c0a0-176e-4155-9f57-3bda48cae6d7",
   "metadata": {},
   "outputs": [
    {
     "name": "stdin",
     "output_type": "stream",
     "text": [
      "enter a number 6\n"
     ]
    },
    {
     "name": "stdout",
     "output_type": "stream",
     "text": [
      "six\n"
     ]
    }
   ],
   "source": [
    "#5. wapp to print the numbers in word between 0 to 10 if else control construct.\n",
    "a = int(input(\"enter a number\"))\n",
    "if a == 0:\n",
    "    print(\"zero\")\n",
    "elif a == 1:\n",
    "    print(\"one\")\n",
    "elif a == 2:\n",
    "    print(\"two\")\n",
    "elif a == 3:\n",
    "    print(\"three\")\n",
    "elif a == 4:\n",
    "    print(\"four\")\n",
    "elif a == 5:\n",
    "    print(\"five\")\n",
    "elif a == 6:\n",
    "    print(\"six\")\n",
    "elif a == 7:\n",
    "    print(\"seven\")\n",
    "elif a == 8:\n",
    "    print(\"eight\")\n",
    "elif a == 9:\n",
    "    print(\"nine\")\n",
    "elif a == 10:\n",
    "    print(\"ten\")\n",
    "else:\n",
    "    print(\"invalid input\")"
   ]
  },
  {
   "cell_type": "code",
   "execution_count": 30,
   "id": "80933cb6-d710-4ce7-ab62-44b45754b9be",
   "metadata": {},
   "outputs": [
    {
     "name": "stdin",
     "output_type": "stream",
     "text": [
      "enter a num1 6\n",
      "enter a num2 2\n",
      "enter 1-add, 2-sub, 3-mul, 4-div 4\n"
     ]
    },
    {
     "name": "stdout",
     "output_type": "stream",
     "text": [
      "3\n"
     ]
    }
   ],
   "source": [
    "#6. wapp to do basic calculator.\n",
    "num1 = int(input(\"enter a num1\"))\n",
    "num2 = int(input(\"enter a num2\"))\n",
    "select = int(input(\"enter 1-add, 2-sub, 3-mul, 4-div\"))\n",
    "if select == 1:\n",
    "    print(num1 + num2)\n",
    "elif select == 2:\n",
    "    print(num1 - num2)\n",
    "elif select == 3:\n",
    "    print(num1 * num2)\n",
    "elif select == 4:\n",
    "    print(num1 // num2)\n",
    "else:\n",
    "    print(\"invalid input\")"
   ]
  },
  {
   "cell_type": "code",
   "execution_count": 31,
   "id": "8adcb676-8298-4019-8b0f-372f8bdcb816",
   "metadata": {},
   "outputs": [
    {
     "name": "stdin",
     "output_type": "stream",
     "text": [
      "enter height in feet 4\n"
     ]
    },
    {
     "name": "stdout",
     "output_type": "stream",
     "text": [
      "token is required\n"
     ]
    }
   ],
   "source": [
    "#7. example using metro\n",
    "\n",
    "height = int(input(\"what's your height in feet\"))\n",
    "if height > 3:\n",
    "    print(\"token is required\")\n",
    "else:\n",
    "    print(\"token is not required\")"
   ]
  },
  {
   "cell_type": "code",
   "execution_count": 36,
   "id": "7307fb76-931a-43f9-8eee-16c28ab37a17",
   "metadata": {},
   "outputs": [
    {
     "name": "stdin",
     "output_type": "stream",
     "text": [
      "what's your height in feet 6\n"
     ]
    },
    {
     "name": "stdout",
     "output_type": "stream",
     "text": [
      "you can ride\n"
     ]
    },
    {
     "name": "stdin",
     "output_type": "stream",
     "text": [
      "wht's your age 18\n"
     ]
    },
    {
     "name": "stdout",
     "output_type": "stream",
     "text": [
      "pay 250Rs\n",
      "bye\n"
     ]
    }
   ],
   "source": [
    "# Nested if else and elif statements\n",
    "#syntax\n",
    "#if condition1:\n",
    "    #statement1\n",
    "    #if condition2:\n",
    "        #statement2\n",
    "    #else:\n",
    "        #statement3\n",
    "#else:\n",
    "    #statement4\n",
    "\n",
    "#8. roller coaster\n",
    "height = int(input(\"what's your height in feet\"))\n",
    "if height > 3:\n",
    "    print(\"you can ride\")\n",
    "    age = int(input(\"wht's your age\"))\n",
    "    if age < 12:\n",
    "        print(\"pay 150Rs\")\n",
    "    elif age <= 18:\n",
    "        print(\"pay 250Rs\")\n",
    "    else:\n",
    "        print(\"pay 500RS\")\n",
    "else:\n",
    "    print(\"can not ride\")\n",
    "print(\"bye\")\n"
   ]
  },
  {
   "cell_type": "code",
   "execution_count": null,
   "id": "29e1b5a7-b8f4-4412-98df-be4136f76dd1",
   "metadata": {},
   "outputs": [],
   "source": [
    "#9. BMI calculation"
   ]
  },
  {
   "cell_type": "code",
   "execution_count": 1,
   "id": "748258ed-d43d-4b8f-b704-ff948300df72",
   "metadata": {},
   "outputs": [
    {
     "name": "stdin",
     "output_type": "stream",
     "text": [
      "enter a year 1990\n"
     ]
    },
    {
     "name": "stdout",
     "output_type": "stream",
     "text": [
      "not a leap year\n"
     ]
    }
   ],
   "source": [
    "#10. check the wheather the given year is leap year or not\n",
    "year = int(input(\"enter a year\"))\n",
    "if year % 4 == 0:\n",
    "    if year % 100 == 0:\n",
    "        if year % 400 == 0:\n",
    "            print(\"leap year\")\n",
    "        else:\n",
    "            print(\"not a leap year\")\n",
    "    else:\n",
    "        print(\"leap year\")\n",
    "else:\n",
    "    print(\"not a leap year\")"
   ]
  },
  {
   "cell_type": "code",
   "execution_count": 12,
   "id": "9b6ef21f-4168-4bd7-8ccc-e6f9c4dbe80b",
   "metadata": {},
   "outputs": [
    {
     "name": "stdin",
     "output_type": "stream",
     "text": [
      "what's your height in feet 5\n"
     ]
    },
    {
     "name": "stdout",
     "output_type": "stream",
     "text": [
      "can ride\n"
     ]
    },
    {
     "name": "stdin",
     "output_type": "stream",
     "text": [
      "what's your age 23\n"
     ]
    },
    {
     "name": "stdout",
     "output_type": "stream",
     "text": [
      "pay 500rs\n"
     ]
    },
    {
     "name": "stdin",
     "output_type": "stream",
     "text": [
      "do you want photos enter y/n y\n"
     ]
    },
    {
     "name": "stdout",
     "output_type": "stream",
     "text": [
      "pay extra 50rs\n",
      "total bill of your ride is 550\n",
      "have a successful ride\n"
     ]
    }
   ],
   "source": [
    "#11. roller coaster updated\n",
    "\n",
    "height = int(input(\"what's your height in feet\"))\n",
    "bill = 0\n",
    "if height > 3:\n",
    "    print(\"can ride\")\n",
    "    age = int(input(\"what's your age\"))\n",
    "    if age < 12:\n",
    "        bill = 150\n",
    "        print(\"pay 150rs\")\n",
    "    elif age <= 18:\n",
    "        bill = 250\n",
    "        print(\"pay 250rs\")\n",
    "    else:\n",
    "        bill = 500\n",
    "        print(\"pay 500rs\")\n",
    "    want_photos = input(\"do you want photos enter y/n\")\n",
    "    if want_photos == \"Y\" or want_photos == \"y\":\n",
    "        print(\"pay extra 50rs\")\n",
    "        bill = bill + 50\n",
    "    print(f\"total bill of your ride is {bill}\")\n",
    "    print(\"have a successful ride\")\n",
    "elif height >= 2:\n",
    "    print(\"can not ride\")\n",
    "    print(\"try next year\")\n",
    "else:\n",
    "    print(\"can not ride\")   "
   ]
  },
  {
   "cell_type": "code",
   "execution_count": 27,
   "id": "cdfe9e64-66ba-4777-9191-7a33e126e941",
   "metadata": {},
   "outputs": [
    {
     "name": "stdin",
     "output_type": "stream",
     "text": [
      "what size pizza you want Enter (s/m/l)=  l\n"
     ]
    },
    {
     "name": "stdout",
     "output_type": "stream",
     "text": [
      "pay 300Rs\n"
     ]
    },
    {
     "name": "stdin",
     "output_type": "stream",
     "text": [
      "Do you want pepperoni enter y/n=  n\n",
      "Do you want extra Cheese enter y/n=  y\n"
     ]
    },
    {
     "name": "stdout",
     "output_type": "stream",
     "text": [
      "your final bill  is 320\n"
     ]
    }
   ],
   "source": [
    "#12. Pizza Order programm\n",
    "'''small pizza = 100\n",
    "    medium pizza = 200\n",
    "    large pizza = 300\n",
    "    pepperoni for small pizza = 30\n",
    "    pepperoni for medium and large pizza = 50\n",
    "    extra cheese for any size pizza = 20'''\n",
    "\n",
    "size = input(\"what size pizza you want Enter (s/m/l)= \")\n",
    "bill = 0\n",
    "valid_order = True\n",
    "if size == \"s\" or size == \"S\":\n",
    "    bill += 100\n",
    "    print(\"pay 100Rs\")\n",
    "elif size == \"m\" or size == \"M\":\n",
    "    bill += 200\n",
    "    print(\"pay 200RS\")\n",
    "elif size == \"l\" or size == \"L\":\n",
    "    bill += 300\n",
    "    print(\"pay 300Rs\")\n",
    "else:\n",
    "    print(\"invalid size\")\n",
    "    valid_order = False\n",
    "if valid_order:\n",
    "    want_pepperoni = input(\"Do you want pepperoni enter y/n= \")\n",
    "    if want_pepperoni == \"y\" or want_pepperoni == \"Y\":\n",
    "        if size == \"s\":\n",
    "            bill += 30\n",
    "        else:\n",
    "            bill += 50\n",
    "    want_extra_Cheese = input(\"Do you want extra Cheese enter y/n= \")\n",
    "    if want_extra_Cheese == \"y\" or want_extra_Cheese == \"Y\":\n",
    "        bill += 20\n",
    "    print(f\"your final bill  is {bill}\")"
   ]
  },
  {
   "cell_type": "code",
   "execution_count": 28,
   "id": "ec1a6aad-8f9f-4215-834e-001e1354ba98",
   "metadata": {},
   "outputs": [
    {
     "name": "stdin",
     "output_type": "stream",
     "text": [
      "Enter your name:  Rohit Sharma\n",
      "Enter his/her name:  Ritika\n"
     ]
    },
    {
     "name": "stdout",
     "output_type": "stream",
     "text": [
      "Your score is 51.\n"
     ]
    }
   ],
   "source": [
    "#13. love calculator\n",
    "\n",
    "name1 = input(\"Enter your name: \")\n",
    "name2 = input(\"Enter his/her name: \")\n",
    "combined_name = name1 + name2\n",
    "lowercase_name = combined_name.lower()\n",
    "t = lowercase_name.count(\"t\")\n",
    "r = lowercase_name.count(\"r\")\n",
    "u = lowercase_name.count(\"u\")\n",
    "e = lowercase_name.count(\"e\")\n",
    "\n",
    "true = t + r + u + e\n",
    "\n",
    "l = lowercase_name.count(\"l\")\n",
    "o = lowercase_name.count(\"o\")\n",
    "v = lowercase_name.count(\"v\")   \n",
    "e = lowercase_name.count(\"e\")\n",
    "\n",
    "love = l + o + v + e\n",
    "\n",
    "score = int(str(true) + str(love))\n",
    "\n",
    "if score < 10 or score > 90:\n",
    "    print(f\"Your score is {score}, you go together like coke and mentos.\")\n",
    "elif score >= 40 and score <= 50:\n",
    "    print(f\"Your score is {score}, you are alright together.\")  \n",
    "else:\n",
    "    print(f\"Your score is {score}.\")"
   ]
  },
  {
   "cell_type": "code",
   "execution_count": null,
   "id": "4d7daeda-300e-41b6-b604-5bfda19930de",
   "metadata": {},
   "outputs": [],
   "source": []
  }
 ],
 "metadata": {
  "kernelspec": {
   "display_name": "Python 3 (ipykernel)",
   "language": "python",
   "name": "python3"
  },
  "language_info": {
   "codemirror_mode": {
    "name": "ipython",
    "version": 3
   },
   "file_extension": ".py",
   "mimetype": "text/x-python",
   "name": "python",
   "nbconvert_exporter": "python",
   "pygments_lexer": "ipython3",
   "version": "3.13.2"
  }
 },
 "nbformat": 4,
 "nbformat_minor": 5
}
