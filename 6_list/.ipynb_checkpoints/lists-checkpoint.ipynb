{
 "cells": [
  {
   "cell_type": "code",
   "execution_count": 1,
   "id": "dba80763-d0c0-428d-a6a3-00dd63affc3a",
   "metadata": {},
   "outputs": [
    {
     "name": "stdout",
     "output_type": "stream",
     "text": [
      "['suhas', 'daya', 'mohan', 'hemanth', 'razak', 'asif']\n"
     ]
    }
   ],
   "source": [
    "#list:-used to store multiple items in single variable\n",
    "list1 = [\"suhas\", \"daya\", \"mohan\", \"hemanth\", \"razak\", \"asif\"]  #homogenous data\n",
    "print(list1)"
   ]
  },
  {
   "cell_type": "code",
   "execution_count": 2,
   "id": "a6c6c9a4-e82c-40ea-a284-b156b3c4c782",
   "metadata": {},
   "outputs": [
    {
     "name": "stdout",
     "output_type": "stream",
     "text": [
      "['suhas', 45, 45.18, True, (45+18j)]\n"
     ]
    }
   ],
   "source": [
    "list2 = [\"suhas\", 45, 45.18, True, 45+18j]  #haterogenous data\n",
    "print(list2)"
   ]
  },
  {
   "cell_type": "code",
   "execution_count": 3,
   "id": "7a2045c8-3f5f-4fc9-ac10-f94c32132a40",
   "metadata": {},
   "outputs": [
    {
     "name": "stdout",
     "output_type": "stream",
     "text": [
      "['suhas', 45, 'daya', 45, 'daya']\n"
     ]
    }
   ],
   "source": [
    "list3 = [\"suhas\", 45, \"daya\", 45, \"daya\"]  #duplicate values\n",
    "print(list3)"
   ]
  },
  {
   "cell_type": "code",
   "execution_count": 4,
   "id": "59308bdd-0ccf-4593-aa24-7a7ee91a99d4",
   "metadata": {},
   "outputs": [
    {
     "name": "stdout",
     "output_type": "stream",
     "text": [
      "['suhas', 'daya', 'mohan', 'hemanth', 'razak', 'asif']\n",
      "<class 'list'>\n"
     ]
    }
   ],
   "source": [
    "list4 = [\"suhas\", \"daya\", \"mohan\", \"hemanth\", \"razak\", \"asif\"]  #type() function\n",
    "print(list4)\n",
    "print(type(list4))"
   ]
  },
  {
   "cell_type": "code",
   "execution_count": 5,
   "id": "d9c60c75-1d57-4764-95b0-3300791a6b51",
   "metadata": {},
   "outputs": [
    {
     "name": "stdout",
     "output_type": "stream",
     "text": [
      "['suhas', 'daya', 'mohan', 'hemanth', 'razak', 'asif']\n",
      "6\n"
     ]
    }
   ],
   "source": [
    "list5 = [\"suhas\", \"daya\", \"mohan\", \"hemanth\", \"razak\", \"asif\"]  #len() function\n",
    "print(list5)\n",
    "print(len(list5))"
   ]
  },
  {
   "cell_type": "code",
   "execution_count": 6,
   "id": "77e8c889-b94e-4730-99e2-a478b01237fd",
   "metadata": {},
   "outputs": [
    {
     "name": "stdout",
     "output_type": "stream",
     "text": [
      "['suhas', 'daya', 'mohan', 'hemanth', 'razak', 'asif']\n",
      "<class 'list'>\n"
     ]
    }
   ],
   "source": [
    "list6 = list((\"suhas\", \"daya\", \"mohan\", \"hemanth\", \"razak\", \"asif\")) #list constructor list()\n",
    "print(list6)\n",
    "print(type(list6))"
   ]
  },
  {
   "cell_type": "code",
   "execution_count": 11,
   "id": "73cdef8f-7a31-4cac-85a6-135443fb423c",
   "metadata": {},
   "outputs": [
    {
     "name": "stdout",
     "output_type": "stream",
     "text": [
      "mohan\n",
      "45.18\n"
     ]
    }
   ],
   "source": [
    "#accessing of list items\n",
    "#list items are indexed we can access them by reffering index value indexing starts from 0.\n",
    "#eg:- return the third item\n",
    "list1 = [\"suhas\", \"daya\", \"mohan\", \"hemanth\", \"razak\", \"asif\"] \n",
    "print(list1[2])\n",
    "\n",
    "#negative indexing\n",
    "#indexing starts from last by -1\n",
    "#eg:- return 45.18 by reffering -ve index\n",
    "list2 = [\"suhas\", 45, 45.18, True, 45+18j]\n",
    "print(list2[-3])"
   ]
  },
  {
   "cell_type": "code",
   "execution_count": 13,
   "id": "28a8f5ba-27ec-42c9-8008-4a2529079614",
   "metadata": {},
   "outputs": [
    {
     "name": "stdout",
     "output_type": "stream",
     "text": [
      "[3, 4, 5, 6]\n",
      "[1, 2, 3, 4, 5, 6]\n",
      "[4, 5, 6, 7, 8, 9]\n",
      "[1, 2, 3, 4, 5, 6, 7, 8, 9]\n"
     ]
    }
   ],
   "source": [
    "#range of index\n",
    "#developer can specify range of index by specifying where to start and where to end the range and the return output will be the new list\n",
    "#eg:- return the 3rd, 4th, 5th and 6th intem in a list\n",
    "list3 = [1, 2, 3, 4, 5, 6, 7, 8, 9]\n",
    "print(list3[2:6])  #index value 2 included 6 not included\n",
    "print(list3[:6]) #starts from index 0 to 5\n",
    "print(list3[3:]) #starts from index 3 to last index\n",
    "print(list3[:]) #returns the entire list"
   ]
  },
  {
   "cell_type": "code",
   "execution_count": 19,
   "id": "13ece287-46c5-481e-b455-dc5172c7866c",
   "metadata": {},
   "outputs": [
    {
     "name": "stdout",
     "output_type": "stream",
     "text": [
      "yes, the value present in the list\n",
      "No, the value not in the list\n"
     ]
    }
   ],
   "source": [
    "#check the list item wheter the item is present or not\n",
    "#to verify the given list item in list present or not we can use the in keyword\n",
    "#eg:- verify the \"daya\" is present in the list or not\n",
    "list1 = [\"suhas\", \"daya\", \"mohan\", \"hemanth\", \"razak\", \"asif\"] \n",
    "if \"daya\" in list1:\n",
    "    print(\"yes, the value present in the list\")\n",
    "else:\n",
    "    print(\"No, the value not in the list\")\n",
    "\n",
    "list2 = [1, 2, 3, 4, 5, 6, 7, 8, 9]\n",
    "if 45 in list2:\n",
    "    print(\"yes, the value present in the list\")\n",
    "else:\n",
    "    print(\"No, the value not in the list\")"
   ]
  },
  {
   "cell_type": "code",
   "execution_count": 21,
   "id": "bb02f72d-140d-433f-9b5c-bf870a3c18df",
   "metadata": {},
   "outputs": [
    {
     "name": "stdout",
     "output_type": "stream",
     "text": [
      "['suhas', 'daya', 'mohan', 'hemanth', 'razak', 'asif']\n",
      "['suhas', 'girish', 'mohan', 'hemanth', 'razak', 'asif']\n",
      "[1, 2, 3, 4, 5, 6, 7, 8, 9]\n",
      "[1, 2, 3, 45, 5, 6, 7, 8, 9]\n"
     ]
    }
   ],
   "source": [
    "#change the list item\n",
    "#eg:- change the value of daya - girish\n",
    "list1 = [\"suhas\", \"daya\", \"mohan\", \"hemanth\", \"razak\", \"asif\"]\n",
    "print(list1)\n",
    "list1[1] = \"girish\"\n",
    "print(list1)\n",
    "\n",
    "list2 = [1, 2, 3, 4, 5, 6, 7, 8, 9]\n",
    "print(list2)\n",
    "list2[3] = 45\n",
    "print(list2)"
   ]
  },
  {
   "cell_type": "code",
   "execution_count": 23,
   "id": "29cc9cbd-776d-422b-9688-ab3e585f4ca3",
   "metadata": {},
   "outputs": [
    {
     "name": "stdout",
     "output_type": "stream",
     "text": [
      "['suhas', 'daya', 'mohan', 'hemanth', 'razak', 'asif']\n",
      "['suhas', 45, 18, 10, 'razak', 'asif']\n"
     ]
    }
   ],
   "source": [
    "#change the range of a item \"daya\", \"mohan\", \"hemanth\" to 45, 18, 10\n",
    "list1 = [\"suhas\", \"daya\", \"mohan\", \"hemanth\", \"razak\", \"asif\"]\n",
    "print(list1)\n",
    "list1[1:4] = 45, 18, 10\n",
    "print(list1)"
   ]
  },
  {
   "cell_type": "code",
   "execution_count": 24,
   "id": "4af4522e-e818-49c1-b094-90e88198585b",
   "metadata": {},
   "outputs": [
    {
     "name": "stdout",
     "output_type": "stream",
     "text": [
      "['suhas', 'girish', 'rajak', 'daya', 'mohan', 'rohit']\n"
     ]
    }
   ],
   "source": [
    "#list methods\n",
    "#1.insert():- to insert the new item without replacing the exixting item in the list. insert() expected 2 arguments\n",
    "#insert() method inserts the item in the specified index\n",
    "#eg:- insert the \"daya\" as a 4th item\n",
    "list1 = [\"suhas\", \"girish\", \"rajak\", \"mohan\", \"rohit\"]\n",
    "list1.insert(3, \"daya\")\n",
    "print(list1)"
   ]
  },
  {
   "cell_type": "code",
   "execution_count": 25,
   "id": "076eca83-4e29-4c59-b3fb-1ec4339014d9",
   "metadata": {},
   "outputs": [
    {
     "ename": "TypeError",
     "evalue": "insert expected 2 arguments, got 1",
     "output_type": "error",
     "traceback": [
      "\u001b[31m---------------------------------------------------------------------------\u001b[39m",
      "\u001b[31mTypeError\u001b[39m                                 Traceback (most recent call last)",
      "\u001b[36mCell\u001b[39m\u001b[36m \u001b[39m\u001b[32mIn[25]\u001b[39m\u001b[32m, line 2\u001b[39m\n\u001b[32m      1\u001b[39m list1 = [\u001b[33m\"\u001b[39m\u001b[33msuhas\u001b[39m\u001b[33m\"\u001b[39m, \u001b[33m\"\u001b[39m\u001b[33mgirish\u001b[39m\u001b[33m\"\u001b[39m, \u001b[33m\"\u001b[39m\u001b[33mrajak\u001b[39m\u001b[33m\"\u001b[39m, \u001b[33m\"\u001b[39m\u001b[33mmohan\u001b[39m\u001b[33m\"\u001b[39m, \u001b[33m\"\u001b[39m\u001b[33mrohit\u001b[39m\u001b[33m\"\u001b[39m]\n\u001b[32m----> \u001b[39m\u001b[32m2\u001b[39m \u001b[43mlist1\u001b[49m\u001b[43m.\u001b[49m\u001b[43minsert\u001b[49m\u001b[43m(\u001b[49m\u001b[33;43m\"\u001b[39;49m\u001b[33;43mdaya\u001b[39;49m\u001b[33;43m\"\u001b[39;49m\u001b[43m)\u001b[49m\n\u001b[32m      3\u001b[39m \u001b[38;5;28mprint\u001b[39m(list1)\n",
      "\u001b[31mTypeError\u001b[39m: insert expected 2 arguments, got 1"
     ]
    }
   ],
   "source": [
    "list1 = [\"suhas\", \"girish\", \"rajak\", \"mohan\", \"rohit\"]\n",
    "list1.insert(\"daya\")\n",
    "print(list1)"
   ]
  },
  {
   "cell_type": "code",
   "execution_count": 7,
   "id": "b07d3342-5580-4553-ac26-7e10ad576c19",
   "metadata": {},
   "outputs": [
    {
     "name": "stdout",
     "output_type": "stream",
     "text": [
      "['suhas', 'girish', 'rajak', 'mohan', 'rohit', 'sangu']\n",
      "[1, 2, 3, 4, 5, 6, 7, 8, 9]\n",
      "['suhas', 45, 10.7, True, 1, 2, 3, 4]\n"
     ]
    }
   ],
   "source": [
    "#Adding of items\n",
    "#2.append() method:- To add an item at the end of the list\n",
    "#3.extend() method:- for adding another list item to the current list, not only onther list it is possible to add tuple, sets, dict etc..\n",
    "\n",
    "list1 = [\"suhas\", \"girish\", \"rajak\", \"mohan\", \"rohit\"]\n",
    "list1.append(\"sangu\")\n",
    "print(list1)\n",
    "list2 = [1, 2, 3, 4, 5]\n",
    "list3 = [6, 7, 8, 9]\n",
    "list2.extend(list3)\n",
    "print(list2)\n",
    "list4 = [\"suhas\", 45, 10.7, True,]\n",
    "tup1 = (1, 2, 3, 4)\n",
    "list4.extend(tup1)\n",
    "print(list4)"
   ]
  },
  {
   "cell_type": "code",
   "execution_count": 8,
   "id": "bebe846e-b327-44d3-a290-a472f9d71034",
   "metadata": {},
   "outputs": [
    {
     "name": "stdout",
     "output_type": "stream",
     "text": [
      "['suhas', 'girish', 'mohan', 'rohit']\n"
     ]
    }
   ],
   "source": [
    "#removing of items\n",
    "#4.remove() method:- remove method removes the specified item, if duplicate items are present means it remvoves the first occurance.\n",
    "#5.pop() method:- pop method removes the specified index valued item if index value is not specified the it removes the last item.\n",
    "#6.del() statement:-removes the specified index valued item and we can delete the complete list.\n",
    "#7.clear() method:- empties the list\n",
    "\n",
    "list1 = [\"suhas\", \"girish\", \"rajak\", \"mohan\", \"rohit\"]\n",
    "list1.remove(\"rajak\")\n",
    "print(list1)"
   ]
  },
  {
   "cell_type": "code",
   "execution_count": 20,
   "id": "23ab6929-3409-4f22-b98c-2afa6650b29f",
   "metadata": {},
   "outputs": [
    {
     "name": "stdout",
     "output_type": "stream",
     "text": [
      "['suhas', 'girish', 'rajak', 'mohan']\n"
     ]
    }
   ],
   "source": [
    "list1 = [\"suhas\", \"girish\", \"rajak\", \"mohan\", \"rohit\"]\n",
    "list1.pop(3)\n",
    "print(list1)"
   ]
  },
  {
   "cell_type": "code",
   "execution_count": 16,
   "id": "220530fc-2bce-4d63-877e-48adbe85d6ac",
   "metadata": {},
   "outputs": [
    {
     "name": "stdout",
     "output_type": "stream",
     "text": [
      "['suhas', 'girish', 'rajak', 'rohit']\n"
     ]
    }
   ],
   "source": [
    "list1 = [\"suhas\", \"girish\", \"rajak\", \"mohan\", \"rohit\"]\n",
    "del list1[3]\n",
    "print(list1)"
   ]
  },
  {
   "cell_type": "code",
   "execution_count": 18,
   "id": "ab96f25c-ecbd-4526-b76c-9bcce5be1db8",
   "metadata": {},
   "outputs": [
    {
     "ename": "NameError",
     "evalue": "name 'list1' is not defined",
     "output_type": "error",
     "traceback": [
      "\u001b[31m---------------------------------------------------------------------------\u001b[39m",
      "\u001b[31mNameError\u001b[39m                                 Traceback (most recent call last)",
      "\u001b[36mCell\u001b[39m\u001b[36m \u001b[39m\u001b[32mIn[18]\u001b[39m\u001b[32m, line 3\u001b[39m\n\u001b[32m      1\u001b[39m list1 = [\u001b[33m\"\u001b[39m\u001b[33msuhas\u001b[39m\u001b[33m\"\u001b[39m, \u001b[33m\"\u001b[39m\u001b[33mgirish\u001b[39m\u001b[33m\"\u001b[39m, \u001b[33m\"\u001b[39m\u001b[33mrajak\u001b[39m\u001b[33m\"\u001b[39m, \u001b[33m\"\u001b[39m\u001b[33mmohan\u001b[39m\u001b[33m\"\u001b[39m, \u001b[33m\"\u001b[39m\u001b[33mrohit\u001b[39m\u001b[33m\"\u001b[39m]\n\u001b[32m      2\u001b[39m \u001b[38;5;28;01mdel\u001b[39;00m list1\n\u001b[32m----> \u001b[39m\u001b[32m3\u001b[39m \u001b[38;5;28mprint\u001b[39m(\u001b[43mlist1\u001b[49m)\n",
      "\u001b[31mNameError\u001b[39m: name 'list1' is not defined"
     ]
    }
   ],
   "source": [
    "list1 = [\"suhas\", \"girish\", \"rajak\", \"mohan\", \"rohit\"]\n",
    "del list1\n",
    "print(list1)"
   ]
  },
  {
   "cell_type": "code",
   "execution_count": 19,
   "id": "ec9dae94-f5e6-4fa2-8f97-2509cfb58cc2",
   "metadata": {},
   "outputs": [
    {
     "name": "stdout",
     "output_type": "stream",
     "text": [
      "[]\n"
     ]
    }
   ],
   "source": [
    "list1 = [\"suhas\", \"girish\", \"rajak\", \"mohan\", \"rohit\"]\n",
    "list1.clear()\n",
    "print(list1)"
   ]
  },
  {
   "cell_type": "code",
   "execution_count": 1,
   "id": "ce296f05-267b-43cd-b844-74406aac0ca6",
   "metadata": {},
   "outputs": [
    {
     "name": "stdout",
     "output_type": "stream",
     "text": [
      "suhas\n",
      "girish\n",
      "rajak\n",
      "mohan\n",
      "rohit\n"
     ]
    }
   ],
   "source": [
    "#print all the list item line by line\n",
    "list1 = [\"suhas\", \"girish\", \"rajak\", \"mohan\", \"rohit\"]\n",
    "for i in list1:\n",
    "    print(i)"
   ]
  },
  {
   "cell_type": "code",
   "execution_count": 7,
   "id": "cb1e0520-f1e6-4c21-a0c3-bbe63e94de98",
   "metadata": {},
   "outputs": [
    {
     "name": "stdout",
     "output_type": "stream",
     "text": [
      "suhas\n",
      "girish\n",
      "rajak\n",
      "mohan\n",
      "rohit\n"
     ]
    }
   ],
   "source": [
    "list1 = [\"suhas\", \"girish\", \"rajak\", \"mohan\", \"rohit\"]\n",
    "for i in range(len(list1)):\n",
    "    print(list1[i])"
   ]
  },
  {
   "cell_type": "code",
   "execution_count": 9,
   "id": "a431d174-7704-4540-9b0c-ce95b245e00b",
   "metadata": {},
   "outputs": [
    {
     "name": "stdout",
     "output_type": "stream",
     "text": [
      "suhas\n",
      "girish\n",
      "rajak\n",
      "mohan\n",
      "rohit\n"
     ]
    }
   ],
   "source": [
    "#print all the list item line by line using while loop\n",
    "list1 = [\"suhas\", \"girish\", \"rajak\", \"mohan\", \"rohit\"]\n",
    "i=0\n",
    "while i<len(list1):\n",
    "    print(list1[i])\n",
    "    i=i+1"
   ]
  },
  {
   "cell_type": "code",
   "execution_count": 10,
   "id": "45710576-10e6-4e5b-bbac-8f9fbdebcbb1",
   "metadata": {},
   "outputs": [
    {
     "name": "stdout",
     "output_type": "stream",
     "text": [
      "['dhoni', 'hitman', 'king', 'kohli', 'rohit', 'thala']\n"
     ]
    }
   ],
   "source": [
    "#sort() method : alphanumerically assending by default\n",
    "l1 = [\"king\", \"kohli\", \"rohit\", \"hitman\", \"dhoni\", \"thala\"]\n",
    "l1.sort()\n",
    "print(l1)"
   ]
  },
  {
   "cell_type": "code",
   "execution_count": 11,
   "id": "ae8e1a74-8bda-4465-ac48-248b32dc4483",
   "metadata": {},
   "outputs": [
    {
     "name": "stdout",
     "output_type": "stream",
     "text": [
      "[7, 10, 18, 45]\n"
     ]
    }
   ],
   "source": [
    "l2 = [45, 18, 10, 7]\n",
    "l2.sort()\n",
    "print(l2)"
   ]
  },
  {
   "cell_type": "code",
   "execution_count": 12,
   "id": "dffbe4dc-0413-42f1-b86e-4c1f22864432",
   "metadata": {},
   "outputs": [
    {
     "name": "stdout",
     "output_type": "stream",
     "text": [
      "[45, 18, 10, 7]\n"
     ]
    }
   ],
   "source": [
    "l2 = [45, 18, 10, 7]\n",
    "l2.sort(reverse = True)\n",
    "print(l2)"
   ]
  },
  {
   "cell_type": "code",
   "execution_count": 13,
   "id": "48418256-b351-4043-b798-5d820d3cd71b",
   "metadata": {},
   "outputs": [
    {
     "name": "stdout",
     "output_type": "stream",
     "text": [
      "[50, 45, 44, 60, 23, 80]\n"
     ]
    }
   ],
   "source": [
    "def name(n):\n",
    "    return abs(n-50)\n",
    "l1 = [44, 50, 45, 60, 23, 80]\n",
    "l1.sort(key = name)\n",
    "print(l1)"
   ]
  },
  {
   "cell_type": "code",
   "execution_count": 16,
   "id": "93b4ef64-9a74-4324-b890-958f460cdae9",
   "metadata": {},
   "outputs": [
    {
     "name": "stdout",
     "output_type": "stream",
     "text": [
      "['Zebra', 'dhoni', 'hitman', 'king', 'kohli', 'rohit', 'thala']\n"
     ]
    }
   ],
   "source": [
    "l1 = [\"king\", \"kohli\", \"rohit\", \"hitman\", \"dhoni\", \"thala\", \"Zebra\"]\n",
    "l1.sort()\n",
    "print(l1)"
   ]
  },
  {
   "cell_type": "code",
   "execution_count": 24,
   "id": "a5db0405-0853-4605-92af-aa8c79929643",
   "metadata": {},
   "outputs": [
    {
     "name": "stdout",
     "output_type": "stream",
     "text": [
      "['dhoni', 'hitman', 'king', 'kohli', 'rohit', 'thala', 'Zebra']\n"
     ]
    }
   ],
   "source": [
    "l1 = [\"king\", \"kohli\", \"rohit\", \"hitman\", \"dhoni\", \"thala\", \"Zebra\"]\n",
    "l1.sort(key = str.lower)\n",
    "print(l1)"
   ]
  },
  {
   "cell_type": "code",
   "execution_count": 19,
   "id": "d198f9dc-da53-4801-83d7-5c43b871f833",
   "metadata": {},
   "outputs": [
    {
     "name": "stdout",
     "output_type": "stream",
     "text": [
      "['Zebra', 'thala', 'dhoni', 'hitman', 'rohit', 'kohli', 'king']\n"
     ]
    }
   ],
   "source": [
    "l1 = [\"king\", \"kohli\", \"rohit\", \"hitman\", \"dhoni\", \"thala\", \"Zebra\"]\n",
    "l1.reverse()\n",
    "print(l1)"
   ]
  },
  {
   "cell_type": "code",
   "execution_count": 25,
   "id": "c7100789-5c91-4057-a66d-c13d4374c72f",
   "metadata": {},
   "outputs": [
    {
     "name": "stdout",
     "output_type": "stream",
     "text": [
      "['kohli', 'rohit', 'hitman', 'dhoni', 'thala', 'Zebra']\n",
      "['kohli', 'rohit', 'hitman', 'dhoni', 'thala', 'Zebra']\n"
     ]
    }
   ],
   "source": [
    "l1 = [\"king\", \"kohli\", \"rohit\", \"hitman\", \"dhoni\", \"thala\", \"Zebra\"]\n",
    "l2 = l1\n",
    "l1.remove(\"king\")\n",
    "print(l1)\n",
    "print(l2)"
   ]
  },
  {
   "cell_type": "code",
   "execution_count": 27,
   "id": "b41ecf26-e44b-40fd-afe5-f31bbe4b9a46",
   "metadata": {},
   "outputs": [
    {
     "name": "stdout",
     "output_type": "stream",
     "text": [
      "['kohli', 'rohit', 'hitman', 'dhoni', 'thala', 'Zebra']\n",
      "['king', 'kohli', 'rohit', 'hitman', 'dhoni', 'thala', 'Zebra']\n"
     ]
    }
   ],
   "source": [
    "l1 = [\"king\", \"kohli\", \"rohit\", \"hitman\", \"dhoni\", \"thala\", \"Zebra\"]\n",
    "l2 = l1[:]\n",
    "l1.remove(\"king\")\n",
    "print(l1)\n",
    "print(l2)"
   ]
  },
  {
   "cell_type": "code",
   "execution_count": 28,
   "id": "98793908-9a20-43c4-a3c3-07b2c943fd72",
   "metadata": {},
   "outputs": [
    {
     "name": "stdout",
     "output_type": "stream",
     "text": [
      "['kohli', 'rohit', 'hitman', 'dhoni', 'thala', 'Zebra']\n",
      "['king', 'kohli', 'rohit', 'hitman', 'dhoni', 'thala', 'Zebra']\n"
     ]
    }
   ],
   "source": [
    "l1 = [\"king\", \"kohli\", \"rohit\", \"hitman\", \"dhoni\", \"thala\", \"Zebra\"]\n",
    "l2 = list(l1)\n",
    "l1.remove(\"king\")\n",
    "print(l1)\n",
    "print(l2)"
   ]
  },
  {
   "cell_type": "code",
   "execution_count": 29,
   "id": "17b464d0-0bab-402d-8f46-84f2c429769a",
   "metadata": {},
   "outputs": [
    {
     "name": "stdout",
     "output_type": "stream",
     "text": [
      "['kohli', 'rohit', 'hitman', 'dhoni', 'thala', 'Zebra']\n",
      "['king', 'kohli', 'rohit', 'hitman', 'dhoni', 'thala', 'Zebra']\n"
     ]
    }
   ],
   "source": [
    "l1 = [\"king\", \"kohli\", \"rohit\", \"hitman\", \"dhoni\", \"thala\", \"Zebra\"]\n",
    "l2 = l1.copy()\n",
    "l1.remove(\"king\")\n",
    "print(l1)\n",
    "print(l2)"
   ]
  },
  {
   "cell_type": "code",
   "execution_count": 32,
   "id": "6274fa57-b183-4d93-a861-c09639e3b984",
   "metadata": {},
   "outputs": [
    {
     "name": "stdout",
     "output_type": "stream",
     "text": [
      "['rohit', 'rahul', 'virat', 'dhoni', 'sachin', 'gill', 45, 1, 18, 7, 10, 77]\n"
     ]
    }
   ],
   "source": [
    "l1 = [\"rohit\", \"rahul\", \"virat\", \"dhoni\", \"sachin\", \"gill\"]\n",
    "l2 = [45, 1, 18, 7, 10, 77]\n",
    "l3 = l1+l2\n",
    "print(l3)"
   ]
  },
  {
   "cell_type": "code",
   "execution_count": 37,
   "id": "a66e45a2-77c4-4238-a837-9f8332b2f3f8",
   "metadata": {},
   "outputs": [
    {
     "name": "stdout",
     "output_type": "stream",
     "text": [
      "['rohit', 'rahul', 'virat', 'dhoni', 'sachin', 'gill', 45, 1, 18, 7, 10, 77]\n"
     ]
    }
   ],
   "source": [
    "l1 = [\"rohit\", \"rahul\", \"virat\", \"dhoni\", \"sachin\", \"gill\"]\n",
    "l2 = [45, 1, 18, 7, 10, 77]\n",
    "l1.extend(l2)\n",
    "print(l1)"
   ]
  },
  {
   "cell_type": "code",
   "execution_count": null,
   "id": "412ab5e0-9598-4d12-927d-d2212a944a10",
   "metadata": {},
   "outputs": [],
   "source": []
  }
 ],
 "metadata": {
  "kernelspec": {
   "display_name": "Python 3 (ipykernel)",
   "language": "python",
   "name": "python3"
  },
  "language_info": {
   "codemirror_mode": {
    "name": "ipython",
    "version": 3
   },
   "file_extension": ".py",
   "mimetype": "text/x-python",
   "name": "python",
   "nbconvert_exporter": "python",
   "pygments_lexer": "ipython3",
   "version": "3.13.2"
  }
 },
 "nbformat": 4,
 "nbformat_minor": 5
}
