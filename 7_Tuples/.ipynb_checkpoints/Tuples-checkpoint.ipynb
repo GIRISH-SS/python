{
 "cells": [
  {
   "cell_type": "code",
   "execution_count": 3,
   "id": "6a1f6c77-4579-48d6-9d7b-c84c396e13d6",
   "metadata": {},
   "outputs": [
    {
     "name": "stdout",
     "output_type": "stream",
     "text": [
      "<class 'tuple'>\n",
      "(10, 20, 30, 40, 50)\n"
     ]
    }
   ],
   "source": [
    "tup1 = (10, 20, 30, 40, 50)\n",
    "print(type(tup1))\n",
    "print(tup1)"
   ]
  },
  {
   "cell_type": "code",
   "execution_count": 4,
   "id": "2b557c23-b7e8-4616-801f-18646078803d",
   "metadata": {},
   "outputs": [
    {
     "name": "stdout",
     "output_type": "stream",
     "text": [
      "<class 'tuple'>\n",
      "(10, 'rohit', 3.14, True, 10)\n"
     ]
    }
   ],
   "source": [
    "tup2 = (10, \"rohit\", 3.14, True, 10)\n",
    "print(type(tup2))\n",
    "print(tup2)"
   ]
  },
  {
   "cell_type": "code",
   "execution_count": 6,
   "id": "255c0cc7-548a-4c77-b6ef-9f27e070c35f",
   "metadata": {},
   "outputs": [
    {
     "name": "stdout",
     "output_type": "stream",
     "text": [
      "<class 'int'>\n",
      "<class 'tuple'>\n"
     ]
    }
   ],
   "source": [
    "tup3 = (10)\n",
    "tup4 = (10,)\n",
    "print(type(tup3))\n",
    "print(type(tup4))"
   ]
  },
  {
   "cell_type": "code",
   "execution_count": 15,
   "id": "5beb4910-2b16-408e-a56e-6c869565fed6",
   "metadata": {},
   "outputs": [
    {
     "name": "stdout",
     "output_type": "stream",
     "text": [
      "10\n",
      "(10, 20, 30, 40)\n"
     ]
    }
   ],
   "source": [
    "#accessing tuple items\n",
    "tup5 = (10, 20, 30, 40, 50)\n",
    "print(tup5[0])   #indexing\n",
    "tup6 = (10, 20, 30, 40, 50)\n",
    "print(tup6[0:4]) #slicing"
   ]
  },
  {
   "cell_type": "code",
   "execution_count": 24,
   "id": "be7c7805-1869-414c-8d58-5ab76bbb35ef",
   "metadata": {},
   "outputs": [
    {
     "name": "stdout",
     "output_type": "stream",
     "text": [
      "(1, 2, 3, 4)\n",
      "(1, 2, 1, 2, 1, 2)\n",
      "True\n"
     ]
    }
   ],
   "source": [
    "#tuple operation\n",
    "#concatination\n",
    "tup1 = (1,2)\n",
    "tup2 = (3,4)\n",
    "tup3 = tup1 + tup2\n",
    "print(tup3)\n",
    "\n",
    "#repetation\n",
    "tup4 = (1,2)\n",
    "tup5 = tup4 * 3\n",
    "print(tup5)\n",
    "\n",
    "tup6 = (45, 18, 10)\n",
    "print(45 in tup6)"
   ]
  },
  {
   "cell_type": "code",
   "execution_count": 25,
   "id": "09343967-c9b1-402e-9a85-8d2666f24e09",
   "metadata": {},
   "outputs": [
    {
     "name": "stdout",
     "output_type": "stream",
     "text": [
      "rohit\n",
      "virat\n",
      "gill\n",
      "sachin\n",
      "rahul\n"
     ]
    }
   ],
   "source": [
    "#looping through a tuple\n",
    "\n",
    "cricketers = (\"rohit\", \"virat\", \"gill\", \"sachin\", \"rahul\")\n",
    "for cricket in cricketers:\n",
    "    print(cricket)"
   ]
  },
  {
   "cell_type": "code",
   "execution_count": 30,
   "id": "59963b94-06ba-42af-9a05-6f70fab6e289",
   "metadata": {},
   "outputs": [
    {
     "name": "stdout",
     "output_type": "stream",
     "text": [
      "2\n",
      "4\n"
     ]
    }
   ],
   "source": [
    "#tuple method\n",
    "\n",
    "#count() method\n",
    "#index() method\n",
    "\n",
    "cricketers = (\"rohit\", \"virat\", \"gill\", \"sachin\", \"rahul\", \"rohit\")\n",
    "counting = cricketers.count('rohit')\n",
    "print(counting)\n",
    "\n",
    "tup1 = (10, 20, 30, 40, 50)\n",
    "indexing = tup1.index(50)\n",
    "print(indexing)"
   ]
  },
  {
   "cell_type": "code",
   "execution_count": null,
   "id": "918d3276-9202-4e7c-ad0e-b403c931d33e",
   "metadata": {},
   "outputs": [],
   "source": []
  }
 ],
 "metadata": {
  "kernelspec": {
   "display_name": "Python 3 (ipykernel)",
   "language": "python",
   "name": "python3"
  },
  "language_info": {
   "codemirror_mode": {
    "name": "ipython",
    "version": 3
   },
   "file_extension": ".py",
   "mimetype": "text/x-python",
   "name": "python",
   "nbconvert_exporter": "python",
   "pygments_lexer": "ipython3",
   "version": "3.13.2"
  }
 },
 "nbformat": 4,
 "nbformat_minor": 5
}
