{
 "cells": [
  {
   "cell_type": "code",
   "execution_count": 15,
   "id": "69503275-f1df-45ef-a062-80a0162fe5b0",
   "metadata": {},
   "outputs": [
    {
     "name": "stdout",
     "output_type": "stream",
     "text": [
      "{264.45, 1, (45+18j), 'rohit'}\n",
      "<class 'set'>\n"
     ]
    }
   ],
   "source": [
    "#sets:- To store multiple elemnts in a single variable\n",
    "\n",
    "set1 = {1, \"rohit\", True, 264.45, 45+18j}\n",
    "print(set1)\n",
    "print(type(set1))"
   ]
  },
  {
   "cell_type": "code",
   "execution_count": 18,
   "id": "7c0d1680-3f9c-4cf9-b54c-f61a6e03039e",
   "metadata": {},
   "outputs": [
    {
     "ename": "TypeError",
     "evalue": "'set' object does not support item assignment",
     "output_type": "error",
     "traceback": [
      "\u001b[31m---------------------------------------------------------------------------\u001b[39m",
      "\u001b[31mTypeError\u001b[39m                                 Traceback (most recent call last)",
      "\u001b[36mCell\u001b[39m\u001b[36m \u001b[39m\u001b[32mIn[18]\u001b[39m\u001b[32m, line 2\u001b[39m\n\u001b[32m      1\u001b[39m set1 = {\u001b[32m1\u001b[39m, \u001b[33m\"\u001b[39m\u001b[33mrohit\u001b[39m\u001b[33m\"\u001b[39m, \u001b[38;5;28;01mTrue\u001b[39;00m, \u001b[32m264.45\u001b[39m, \u001b[32m45\u001b[39m+\u001b[32m18\u001b[39mj}\n\u001b[32m----> \u001b[39m\u001b[32m2\u001b[39m \u001b[43mset1\u001b[49m\u001b[43m[\u001b[49m\u001b[32;43m1\u001b[39;49m\u001b[43m]\u001b[49m = \u001b[33m\"\u001b[39m\u001b[33mvirat\u001b[39m\u001b[33m\"\u001b[39m\n\u001b[32m      3\u001b[39m \u001b[38;5;28mprint\u001b[39m(set1)\n",
      "\u001b[31mTypeError\u001b[39m: 'set' object does not support item assignment"
     ]
    }
   ],
   "source": [
    "set1 = {1, \"rohit\", True, 264.45, 45+18j}\n",
    "set1[1] = \"virat\"\n",
    "print(set1)"
   ]
  },
  {
   "cell_type": "code",
   "execution_count": 24,
   "id": "7790d27d-1920-419c-8ee8-88386a539bf1",
   "metadata": {},
   "outputs": [
    {
     "name": "stdout",
     "output_type": "stream",
     "text": [
      "[1, 'rohit', True, 264.45, (45+18j)]\n"
     ]
    }
   ],
   "source": [
    "set1 = [1, \"rohit\", True, 264.45, 45+18j]\n",
    "set1[1:4]\n",
    "print(set1)"
   ]
  },
  {
   "cell_type": "code",
   "execution_count": null,
   "id": "98930619-9ae1-4e46-8d5b-74315e5214e2",
   "metadata": {},
   "outputs": [],
   "source": []
  }
 ],
 "metadata": {
  "kernelspec": {
   "display_name": "Python 3 (ipykernel)",
   "language": "python",
   "name": "python3"
  },
  "language_info": {
   "codemirror_mode": {
    "name": "ipython",
    "version": 3
   },
   "file_extension": ".py",
   "mimetype": "text/x-python",
   "name": "python",
   "nbconvert_exporter": "python",
   "pygments_lexer": "ipython3",
   "version": "3.13.2"
  }
 },
 "nbformat": 4,
 "nbformat_minor": 5
}
