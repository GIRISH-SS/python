{
 "cells": [
  {
   "cell_type": "code",
   "execution_count": 15,
   "id": "69503275-f1df-45ef-a062-80a0162fe5b0",
   "metadata": {},
   "outputs": [
    {
     "name": "stdout",
     "output_type": "stream",
     "text": [
      "{264.45, 1, (45+18j), 'rohit'}\n",
      "<class 'set'>\n"
     ]
    }
   ],
   "source": [
    "#sets:- To store multiple elemnts in a single variable\n",
    "\n",
    "set1 = {1, \"rohit\", True, 264.45, 45+18j}\n",
    "print(set1)\n",
    "print(type(set1))"
   ]
  },
  {
   "cell_type": "code",
   "execution_count": 18,
   "id": "7c0d1680-3f9c-4cf9-b54c-f61a6e03039e",
   "metadata": {},
   "outputs": [
    {
     "ename": "TypeError",
     "evalue": "'set' object does not support item assignment",
     "output_type": "error",
     "traceback": [
      "\u001b[31m---------------------------------------------------------------------------\u001b[39m",
      "\u001b[31mTypeError\u001b[39m                                 Traceback (most recent call last)",
      "\u001b[36mCell\u001b[39m\u001b[36m \u001b[39m\u001b[32mIn[18]\u001b[39m\u001b[32m, line 2\u001b[39m\n\u001b[32m      1\u001b[39m set1 = {\u001b[32m1\u001b[39m, \u001b[33m\"\u001b[39m\u001b[33mrohit\u001b[39m\u001b[33m\"\u001b[39m, \u001b[38;5;28;01mTrue\u001b[39;00m, \u001b[32m264.45\u001b[39m, \u001b[32m45\u001b[39m+\u001b[32m18\u001b[39mj}\n\u001b[32m----> \u001b[39m\u001b[32m2\u001b[39m \u001b[43mset1\u001b[49m\u001b[43m[\u001b[49m\u001b[32;43m1\u001b[39;49m\u001b[43m]\u001b[49m = \u001b[33m\"\u001b[39m\u001b[33mvirat\u001b[39m\u001b[33m\"\u001b[39m\n\u001b[32m      3\u001b[39m \u001b[38;5;28mprint\u001b[39m(set1)\n",
      "\u001b[31mTypeError\u001b[39m: 'set' object does not support item assignment"
     ]
    }
   ],
   "source": [
    "set1 = {1, \"rohit\", True, 264.45, 45+18j}\n",
    "set1[1] = \"virat\"\n",
    "print(set1)"
   ]
  },
  {
   "cell_type": "code",
   "execution_count": 27,
   "id": "7790d27d-1920-419c-8ee8-88386a539bf1",
   "metadata": {},
   "outputs": [
    {
     "ename": "TypeError",
     "evalue": "'set' object is not subscriptable",
     "output_type": "error",
     "traceback": [
      "\u001b[31m---------------------------------------------------------------------------\u001b[39m",
      "\u001b[31mTypeError\u001b[39m                                 Traceback (most recent call last)",
      "\u001b[36mCell\u001b[39m\u001b[36m \u001b[39m\u001b[32mIn[27]\u001b[39m\u001b[32m, line 2\u001b[39m\n\u001b[32m      1\u001b[39m set1 = {\u001b[32m1\u001b[39m, \u001b[33m\"\u001b[39m\u001b[33mrohit\u001b[39m\u001b[33m\"\u001b[39m, \u001b[38;5;28;01mTrue\u001b[39;00m, \u001b[32m264.45\u001b[39m, \u001b[32m45\u001b[39m+\u001b[32m18\u001b[39mj}\n\u001b[32m----> \u001b[39m\u001b[32m2\u001b[39m \u001b[38;5;28mprint\u001b[39m(\u001b[43mset1\u001b[49m\u001b[43m[\u001b[49m\u001b[32;43m1\u001b[39;49m\u001b[43m:\u001b[49m\u001b[32;43m4\u001b[39;49m\u001b[43m]\u001b[49m)\n",
      "\u001b[31mTypeError\u001b[39m: 'set' object is not subscriptable"
     ]
    }
   ],
   "source": [
    "set1 = {1, \"rohit\", True, 264.45, 45+18j}\n",
    "print(set1[1:4])"
   ]
  },
  {
   "cell_type": "code",
   "execution_count": 28,
   "id": "98930619-9ae1-4e46-8d5b-74315e5214e2",
   "metadata": {},
   "outputs": [],
   "source": [
    "#set methods\n",
    "#1.add():- To add one element to a set.\n",
    "#2.update():-To add many elements to a set.\n",
    "#3.pop():-To remove any one random elemnts from a set.\n",
    "#4.remove():- removes the entered value if duplicate are present it will remove duplicate value also.\n",
    "#5.discard():-same as remove() method if entered value not present means it will return output as same set but in remove method it will return error.\n",
    "#6.clear():- To make set Empty\n",
    "#7.len():-gives the length of set if duplicate value present means it will considered once\n"
   ]
  },
  {
   "cell_type": "code",
   "execution_count": 30,
   "id": "4ec7443d-4a7b-45d0-8881-eb9ec92975c2",
   "metadata": {},
   "outputs": [
    {
     "name": "stdout",
     "output_type": "stream",
     "text": [
      "{1, (45+18j), 'virat', 'rohit', 264.45}\n"
     ]
    }
   ],
   "source": [
    "#1.add():- To add one element to a set.\n",
    "\n",
    "set1 = {1, \"rohit\", True, 264.45, 45+18j}\n",
    "set1.add(\"virat\")\n",
    "print(set1)"
   ]
  },
  {
   "cell_type": "code",
   "execution_count": 32,
   "id": "e46a5faf-35e6-46da-9b85-94160b41c92f",
   "metadata": {},
   "outputs": [
    {
     "name": "stdout",
     "output_type": "stream",
     "text": [
      "{False, 1, (45+18j), 'virat', 'rohit', 264.45, 18}\n"
     ]
    }
   ],
   "source": [
    "#2.update():-To add many elements to a set.\n",
    "\n",
    "set1 = {1, \"rohit\", True, 264.45, 45+18j}\n",
    "set1.update([\"virat\", 18, False])\n",
    "print(set1)"
   ]
  },
  {
   "cell_type": "code",
   "execution_count": 36,
   "id": "fac3abaa-1e09-4465-baef-0608e63e4468",
   "metadata": {},
   "outputs": [
    {
     "name": "stdout",
     "output_type": "stream",
     "text": [
      "{(45+18j), 'virat', 'rohit', 264.45}\n"
     ]
    }
   ],
   "source": [
    "#3.pop():-To remove any one random elemnts from a set.\n",
    "set1 = {1, \"rohit\", \"virat\", 264.45, 45+18j}\n",
    "set1.pop()\n",
    "print(set1)"
   ]
  },
  {
   "cell_type": "code",
   "execution_count": 37,
   "id": "50c66d5b-af47-4cb6-9d52-6f0b40ee03a8",
   "metadata": {},
   "outputs": [
    {
     "name": "stdout",
     "output_type": "stream",
     "text": [
      "{1, (45+18j), 'rohit', 264.45}\n"
     ]
    }
   ],
   "source": [
    "#4.remove():- removes the entered value if duplicate are present it will remove duplicate value also.\n",
    "\n",
    "set1 = {1, \"rohit\", \"virat\", 264.45, 45+18j, \"virat\"}\n",
    "set1.remove(\"virat\")\n",
    "print(set1)"
   ]
  },
  {
   "cell_type": "code",
   "execution_count": 38,
   "id": "cc7c74d1-811c-4491-8c6d-35653ec491e7",
   "metadata": {},
   "outputs": [
    {
     "ename": "KeyError",
     "evalue": "'rahul'",
     "output_type": "error",
     "traceback": [
      "\u001b[31m---------------------------------------------------------------------------\u001b[39m",
      "\u001b[31mKeyError\u001b[39m                                  Traceback (most recent call last)",
      "\u001b[36mCell\u001b[39m\u001b[36m \u001b[39m\u001b[32mIn[38]\u001b[39m\u001b[32m, line 4\u001b[39m\n\u001b[32m      1\u001b[39m \u001b[38;5;66;03m#4.remove():- removes the entered value if duplicate are present it will remove duplicate value also.\u001b[39;00m\n\u001b[32m      3\u001b[39m set1 = {\u001b[32m1\u001b[39m, \u001b[33m\"\u001b[39m\u001b[33mrohit\u001b[39m\u001b[33m\"\u001b[39m, \u001b[33m\"\u001b[39m\u001b[33mvirat\u001b[39m\u001b[33m\"\u001b[39m, \u001b[32m264.45\u001b[39m, \u001b[32m45\u001b[39m+\u001b[32m18\u001b[39mj, \u001b[33m\"\u001b[39m\u001b[33mvirat\u001b[39m\u001b[33m\"\u001b[39m}\n\u001b[32m----> \u001b[39m\u001b[32m4\u001b[39m \u001b[43mset1\u001b[49m\u001b[43m.\u001b[49m\u001b[43mremove\u001b[49m\u001b[43m(\u001b[49m\u001b[33;43m\"\u001b[39;49m\u001b[33;43mrahul\u001b[39;49m\u001b[33;43m\"\u001b[39;49m\u001b[43m)\u001b[49m\n\u001b[32m      5\u001b[39m \u001b[38;5;28mprint\u001b[39m(set1)\n",
      "\u001b[31mKeyError\u001b[39m: 'rahul'"
     ]
    }
   ],
   "source": [
    "set1 = {1, \"rohit\", \"virat\", 264.45, 45+18j, \"virat\"}\n",
    "set1.remove(\"rahul\")\n",
    "print(set1)"
   ]
  },
  {
   "cell_type": "code",
   "execution_count": 39,
   "id": "67b6f042-7b10-4214-8733-18d1cd769a15",
   "metadata": {},
   "outputs": [
    {
     "name": "stdout",
     "output_type": "stream",
     "text": [
      "{1, (45+18j), 'rohit', 264.45}\n"
     ]
    }
   ],
   "source": [
    "#5.discard():-same as remove() method if entered value not present means it will return output as same set but in remove method it will return error.\n",
    "\n",
    "set1 = {1, \"rohit\", \"virat\", 264.45, 45+18j, \"virat\"}\n",
    "set1.discard(\"virat\")\n",
    "print(set1)"
   ]
  },
  {
   "cell_type": "code",
   "execution_count": 40,
   "id": "90fc8b68-7a30-4e3e-8856-4822cab5102d",
   "metadata": {},
   "outputs": [
    {
     "name": "stdout",
     "output_type": "stream",
     "text": [
      "{1, (45+18j), 'virat', 'rohit', 264.45}\n"
     ]
    }
   ],
   "source": [
    "set1 = {1, \"rohit\", \"virat\", 264.45, 45+18j, \"virat\"}\n",
    "set1.discard(\"rahul\")\n",
    "print(set1)"
   ]
  },
  {
   "cell_type": "code",
   "execution_count": 41,
   "id": "e90484b8-99f1-4dc7-9e07-1138d89473d9",
   "metadata": {},
   "outputs": [
    {
     "name": "stdout",
     "output_type": "stream",
     "text": [
      "set()\n",
      "<class 'set'>\n"
     ]
    }
   ],
   "source": [
    "#6.clear():- To make set Empty\n",
    "\n",
    "set1 = {1, \"rohit\", \"virat\", 264.45, 45+18j, \"virat\"}\n",
    "set1.clear()\n",
    "print(set1)\n",
    "print(type(set1))"
   ]
  },
  {
   "cell_type": "code",
   "execution_count": 43,
   "id": "5f725b8e-cf89-4dc5-89d6-1d9729534581",
   "metadata": {},
   "outputs": [
    {
     "name": "stdout",
     "output_type": "stream",
     "text": [
      "5\n"
     ]
    }
   ],
   "source": [
    "#7.len():-gives the length of set if duplicate value present means it will considered once\n",
    "\n",
    "set1 = {1, \"rohit\", \"virat\", 264.45, 45+18j, \"virat\"}\n",
    "print(len(set1))"
   ]
  },
  {
   "cell_type": "code",
   "execution_count": null,
   "id": "5a7dc55c-59b7-4061-9c0e-82cefcf412d5",
   "metadata": {},
   "outputs": [],
   "source": []
  }
 ],
 "metadata": {
  "kernelspec": {
   "display_name": "Python 3 (ipykernel)",
   "language": "python",
   "name": "python3"
  },
  "language_info": {
   "codemirror_mode": {
    "name": "ipython",
    "version": 3
   },
   "file_extension": ".py",
   "mimetype": "text/x-python",
   "name": "python",
   "nbconvert_exporter": "python",
   "pygments_lexer": "ipython3",
   "version": "3.13.2"
  }
 },
 "nbformat": 4,
 "nbformat_minor": 5
}
