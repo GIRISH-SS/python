{
 "cells": [
  {
   "cell_type": "code",
   "execution_count": 3,
   "id": "22f3ed88-75b2-4bfc-8a81-906c6c8f295c",
   "metadata": {},
   "outputs": [
    {
     "name": "stdout",
     "output_type": "stream",
     "text": [
      "4\n"
     ]
    }
   ],
   "source": [
    "import random\n",
    "a = random.randint(1,5)\n",
    "print(a)"
   ]
  },
  {
   "cell_type": "code",
   "execution_count": 8,
   "id": "93b6ec82-4777-412b-bf9c-22848d0f2dcc",
   "metadata": {},
   "outputs": [
    {
     "name": "stdout",
     "output_type": "stream",
     "text": [
      "1\n"
     ]
    }
   ],
   "source": [
    "import random\n",
    "a = random.randrange(1,5)\n",
    "print(a)"
   ]
  },
  {
   "cell_type": "code",
   "execution_count": 10,
   "id": "dbb7f3e1-8ae8-422d-b9e9-df1a34a49508",
   "metadata": {},
   "outputs": [
    {
     "name": "stdout",
     "output_type": "stream",
     "text": [
      "0.710829476881908\n"
     ]
    }
   ],
   "source": [
    "import random\n",
    "a = random.random()\n",
    "print(a)"
   ]
  },
  {
   "cell_type": "code",
   "execution_count": 12,
   "id": "519b3a50-0579-4135-a669-dc036c3aca49",
   "metadata": {},
   "outputs": [
    {
     "name": "stdout",
     "output_type": "stream",
     "text": [
      "2.7813969055586294\n"
     ]
    }
   ],
   "source": [
    "import random\n",
    "a = random.uniform(1,5)\n",
    "print(a)"
   ]
  },
  {
   "cell_type": "code",
   "execution_count": 14,
   "id": "a1b57b32-9ee0-4165-a388-7fac16cfea69",
   "metadata": {},
   "outputs": [
    {
     "name": "stdout",
     "output_type": "stream",
     "text": [
      "rohit\n"
     ]
    }
   ],
   "source": [
    "import random\n",
    "list1 = [\"rohit\", \"virat\", \"daya\", \"suhas\", \"sachin\"]\n",
    "a = random.choice(list1)\n",
    "print(a)"
   ]
  },
  {
   "cell_type": "code",
   "execution_count": 17,
   "id": "300e8a63-c66b-4090-a6f1-59da8aabe0c1",
   "metadata": {},
   "outputs": [
    {
     "name": "stdout",
     "output_type": "stream",
     "text": [
      "['rohit', 'daya', 'virat', 'sachin', 'suhas']\n"
     ]
    }
   ],
   "source": [
    "import random\n",
    "list1 = [\"rohit\", \"virat\", \"daya\", \"suhas\", \"sachin\"]\n",
    "random.shuffle(list1)\n",
    "print(list1)"
   ]
  },
  {
   "cell_type": "code",
   "execution_count": 22,
   "id": "7b18906e-a697-4d7d-8a33-e0bd6e9352c1",
   "metadata": {},
   "outputs": [
    {
     "name": "stdin",
     "output_type": "stream",
     "text": [
      "enter the names with comma separated daya, suhas, virat, rohit, sachin\n"
     ]
    },
    {
     "name": "stdout",
     "output_type": "stream",
     "text": [
      "sachin will pay the bill for everyones food\n"
     ]
    }
   ],
   "source": [
    "#wapp which will select a random name from a list of names and the person will have to pay  everones food bill with and without choice()method\n",
    "\n",
    "import random\n",
    "names = input(\"enter the names with comma separated\")\n",
    "names_list = names.split()\n",
    "length = len(names_list)\n",
    "name_chossen = random.randint(0, length)\n",
    "print(f\"{names_list[name_chossen]} will pay the bill for everyones food\")"
   ]
  },
  {
   "cell_type": "code",
   "execution_count": 27,
   "id": "3c721e51-d5f9-4aa9-814f-3ea601133457",
   "metadata": {},
   "outputs": [
    {
     "name": "stdin",
     "output_type": "stream",
     "text": [
      "enter the names with comma separated daya, suhas, virat, rohit, sachin\n"
     ]
    },
    {
     "name": "stdout",
     "output_type": "stream",
     "text": [
      "virat,will pay the bill for everyones food\n"
     ]
    }
   ],
   "source": [
    "import random\n",
    "names = input(\"enter the names with comma separated\")\n",
    "names_list = names.split()\n",
    "print(f\"{random.choice(names_list)}will pay the bill for everyones food\")"
   ]
  },
  {
   "cell_type": "code",
   "execution_count": 30,
   "id": "9c77fb76-a476-473c-ad24-7167c843333b",
   "metadata": {},
   "outputs": [
    {
     "name": "stdout",
     "output_type": "stream",
     "text": [
      "1\n",
      "head\n"
     ]
    }
   ],
   "source": [
    "#Assume 0-tail & 1-heads print randomly to get output either tail or head\n",
    "\n",
    "import random\n",
    "side = random.randint(0,1)\n",
    "print(side)\n",
    "if side == 1:\n",
    "    print(\"head\") \n",
    "else:\n",
    "    print(\"tail\")"
   ]
  },
  {
   "cell_type": "code",
   "execution_count": null,
   "id": "507a70c9-bf04-414c-a74a-9a8597ce1fbd",
   "metadata": {},
   "outputs": [],
   "source": []
  }
 ],
 "metadata": {
  "kernelspec": {
   "display_name": "Python 3 (ipykernel)",
   "language": "python",
   "name": "python3"
  },
  "language_info": {
   "codemirror_mode": {
    "name": "ipython",
    "version": 3
   },
   "file_extension": ".py",
   "mimetype": "text/x-python",
   "name": "python",
   "nbconvert_exporter": "python",
   "pygments_lexer": "ipython3",
   "version": "3.13.2"
  }
 },
 "nbformat": 4,
 "nbformat_minor": 5
}
